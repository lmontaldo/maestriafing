{
  "cells": [
    {
      "cell_type": "markdown",
      "source": [],
      "metadata": {
        "id": "Cd4nMBK48QS-"
      }
    },
    {
      "cell_type": "code",
      "source": [
        "import os,sys,inspect\n",
        "currentdir = os.path.dirname(os.path.abspath(inspect.getfile(inspect.currentframe())))\n",
        "parentdir = os.path.dirname(currentdir)\n",
        "parentdir = os.path.dirname(parentdir)\n",
        "sys.path.insert(0,parentdir)"
      ],
      "metadata": {
        "id": "IUTkX92sKF5N"
      },
      "execution_count": 1,
      "outputs": []
    },
    {
      "cell_type": "code",
      "source": [
        "from google.colab import drive\n",
        "drive.mount('/content/drive')"
      ],
      "metadata": {
        "colab": {
          "base_uri": "https://localhost:8080/"
        },
        "id": "Xll83j-0QPuY",
        "outputId": "da9a9826-d35d-44ab-dc60-2f8f28e8e5b0"
      },
      "execution_count": 2,
      "outputs": [
        {
          "output_type": "stream",
          "name": "stdout",
          "text": [
            "Drive already mounted at /content/drive; to attempt to forcibly remount, call drive.mount(\"/content/drive\", force_remount=True).\n"
          ]
        }
      ]
    },
    {
      "cell_type": "code",
      "source": [
        "import sys\n",
        "sys.path.append('/content/drive/My Drive/D2FM')\n",
        "module_path = '/content/drive/My Drive/D2FM'\n",
        "if module_path not in sys.path:\n",
        "    sys.path.append(module_path)"
      ],
      "metadata": {
        "id": "OHQp36zkQZ_o"
      },
      "execution_count": 3,
      "outputs": []
    },
    {
      "cell_type": "code",
      "source": [
        "!pip install pykalman"
      ],
      "metadata": {
        "colab": {
          "base_uri": "https://localhost:8080/"
        },
        "id": "OS3rYn20WLyj",
        "outputId": "5e99631d-1cb8-4247-8f19-a4127e2ff5de"
      },
      "execution_count": 4,
      "outputs": [
        {
          "output_type": "stream",
          "name": "stdout",
          "text": [
            "Collecting pykalman\n",
            "  Downloading pykalman-0.9.5.tar.gz (228 kB)\n",
            "\u001b[2K     \u001b[90m━━━━━━━━━━━━━━━━━━━━━━━━━━━━━━━━━━━━━━━━\u001b[0m \u001b[32m228.9/228.9 kB\u001b[0m \u001b[31m2.6 MB/s\u001b[0m eta \u001b[36m0:00:00\u001b[0m\n",
            "\u001b[?25h  Preparing metadata (setup.py) ... \u001b[?25l\u001b[?25hdone\n",
            "Building wheels for collected packages: pykalman\n",
            "  Building wheel for pykalman (setup.py) ... \u001b[?25l\u001b[?25hdone\n",
            "  Created wheel for pykalman: filename=pykalman-0.9.5-py3-none-any.whl size=48442 sha256=cf8d7579d2d0be78e4d9db9cfcff3c9085f96de19a73f1d2d3670245b57b304a\n",
            "  Stored in directory: /root/.cache/pip/wheels/76/33/ef/5f332226e13a5089c6dd4b01cc2bcb59491d18f955fa2d3807\n",
            "Successfully built pykalman\n",
            "Installing collected packages: pykalman\n",
            "Successfully installed pykalman-0.9.5\n"
          ]
        }
      ]
    },
    {
      "cell_type": "code",
      "source": [
        "from models.ddfm import *"
      ],
      "metadata": {
        "id": "sfZM6nNNVDp0"
      },
      "execution_count": 8,
      "outputs": []
    },
    {
      "cell_type": "code",
      "execution_count": 9,
      "metadata": {
        "id": "--U2KPzqary4"
      },
      "outputs": [],
      "source": [
        "import numpy as np\n",
        "import pandas as pd\n",
        "import tensorflow as tf\n",
        "from typing import Tuple\n",
        "from tensorflow import keras\n",
        "from tensorflow.keras import layers\n",
        "from statsmodels.tsa.statespace.dynamic_factor_mq import DynamicFactorMQ as DFM\n",
        "from sklearn.model_selection import ParameterGrid\n",
        "from typing import Tuple\n",
        "import numpy as np\n",
        "from pykalman import KalmanFilter"
      ]
    },
    {
      "cell_type": "code",
      "execution_count": null,
      "metadata": {
        "id": "0cgoKGqbd-ea"
      },
      "outputs": [],
      "source": [
        "#from google.colab import files\n",
        "#uploaded = files.upload()"
      ]
    },
    {
      "cell_type": "code",
      "execution_count": 10,
      "metadata": {
        "id": "Jk9uMGiReqjf"
      },
      "outputs": [],
      "source": [
        "import warnings\n",
        "warnings.filterwarnings(\"ignore\")\n",
        "import random\n",
        "from sklearn.metrics import mean_squared_error as mse\n",
        "from typing import Tuple\n",
        "from sklearn.preprocessing import StandardScaler"
      ]
    },
    {
      "cell_type": "code",
      "execution_count": 11,
      "metadata": {
        "id": "s5TS6VMnrDrw"
      },
      "outputs": [],
      "source": [
        "df_train = pd.read_csv('/content/drive/MyDrive/D2FM/sfr_train.csv')\n",
        "df_test=pd.read_csv('/content/drive/MyDrive/D2FM/sfr_test.csv')\n",
        "df_train_idx=df_train.set_index(\"index\")\n",
        "df_test_idx=df_test.set_index(\"index\")"
      ]
    },
    {
      "cell_type": "code",
      "source": [
        "df_test_idx.sort_index(inplace=True)\n",
        "mean_test = df_test_idx.mean().values\n",
        "sigma_test = df_test_idx.std().values\n",
        "data_test = (df_test_idx - mean_test ) / sigma_test"
      ],
      "metadata": {
        "id": "YPYE-5uxxcSF"
      },
      "execution_count": 13,
      "outputs": []
    },
    {
      "cell_type": "markdown",
      "source": [
        "# Para 7 factores:"
      ],
      "metadata": {
        "id": "u7zhGQWi791u"
      }
    },
    {
      "cell_type": "code",
      "source": [
        "r_true=7\n",
        "structure_encoders = [(r_true * 6, r_true * 4, r_true * 2, r_true),\n",
        "                      (r_true * 12, r_true * 6,r_true * 4, r_true)]\n",
        "\n",
        "lags_inputs = list(range(2))\n",
        "\n",
        "model_info = []\n",
        "\n",
        "# Iterate over both True and False values for use_bias\n",
        "for use_bias_setting in [True, False]:\n",
        "    # Iterate over each structure_encoder configuration\n",
        "    for structure_encoder in structure_encoders:\n",
        "        # Iterate over each lag value\n",
        "        for lags_input in lags_inputs:\n",
        "            # Initialize the DDFM with the current configuration and use_bias setting\n",
        "            ddfm = DDFM(df_train_idx, lags_input=lags_input, structure_encoder=structure_encoder,\n",
        "                        optimizer='Adam', factor_oder=1, use_bias=use_bias_setting, link='tanh',\n",
        "                        epochs=100, max_iter=1000)\n",
        "\n",
        "            # Fit the model\n",
        "            ddfm.fit()\n",
        "\n",
        "            # Store the model, its configuration, and final loss\n",
        "            final_loss = ddfm.loss_now\n",
        "            model_info.append((ddfm, structure_encoder, lags_input, use_bias_setting, final_loss))\n",
        "\n",
        "# Print the information for each model\n",
        "for model, encoder_config, lag, use_bias_setting, final_loss in model_info:\n",
        "    print(f\"Model with encoder {encoder_config}, lag {lag}, use_bias {use_bias_setting} - Final Loss: {final_loss}\")"
      ],
      "metadata": {
        "colab": {
          "base_uri": "https://localhost:8080/"
        },
        "id": "kUSPVcj3RGje",
        "outputId": "b9cb0245-cb03-430f-9214-00d0a0059d42"
      },
      "execution_count": 36,
      "outputs": [
        {
          "output_type": "stream",
          "name": "stdout",
          "text": [
            "@Info - Note: Sorting data.\n",
            "19/19 [==============================] - 0s 2ms/step\n",
            "@Info - Note: Sorting data.\n",
            "18/18 [==============================] - 0s 2ms/step\n",
            "@Info: Convergence achieved in 9 iterations - new loss: 0.5618317276176635 - delta: 0.00025093903509039857 < 0.0005\n",
            "@Info - Note: Sorting data.\n",
            "19/19 [==============================] - 0s 2ms/step\n",
            "@Info: Convergence achieved in 6 iterations - new loss: 0.5665182590611652 - delta: 0.00038915767374187116 < 0.0005\n",
            "@Info - Note: Sorting data.\n",
            "18/18 [==============================] - 0s 2ms/step\n",
            "@Info: Convergence achieved in 6 iterations - new loss: 0.5605203296806641 - delta: 0.00037746011803267015 < 0.0005\n",
            "@Info - Note: Sorting data.\n",
            "19/19 [==============================] - 0s 2ms/step\n",
            "@Info: Convergence achieved in 6 iterations - new loss: 0.5692886499619476 - delta: 0.0003273819488660052 < 0.0005\n",
            "@Info - Note: Sorting data.\n",
            "18/18 [==============================] - 0s 2ms/step\n",
            "@Info - Note: Sorting data.\n",
            "19/19 [==============================] - 0s 2ms/step\n",
            "@Info: Convergence achieved in 7 iterations - new loss: 0.565675389652418 - delta: 0.0004307021785290865 < 0.0005\n",
            "@Info - Note: Sorting data.\n",
            "18/18 [==============================] - 0s 3ms/step\n",
            "@Info: Convergence achieved in 6 iterations - new loss: 0.5605422543016934 - delta: 0.00036498136275354206 < 0.0005\n",
            "Model with encoder (42, 28, 14, 7), lag 0, use_bias True - Final Loss: 0.5687447247962041\n",
            "Model with encoder (42, 28, 14, 7), lag 1, use_bias True - Final Loss: 0.5618317276176635\n",
            "Model with encoder (84, 42, 28, 7), lag 0, use_bias True - Final Loss: 0.5665182590611652\n",
            "Model with encoder (84, 42, 28, 7), lag 1, use_bias True - Final Loss: 0.5605203296806641\n",
            "Model with encoder (42, 28, 14, 7), lag 0, use_bias False - Final Loss: 0.5692886499619476\n",
            "Model with encoder (42, 28, 14, 7), lag 1, use_bias False - Final Loss: 0.5624434669959988\n",
            "Model with encoder (84, 42, 28, 7), lag 0, use_bias False - Final Loss: 0.565675389652418\n",
            "Model with encoder (84, 42, 28, 7), lag 1, use_bias False - Final Loss: 0.5605422543016934\n"
          ]
        }
      ]
    },
    {
      "cell_type": "code",
      "source": [
        "# Initialize variables to store the minimum loss and associated configuration.\n",
        "min_loss = float('inf')\n",
        "min_loss_config = None\n",
        "\n",
        "# Iterate over the stored models to find the one with the minimum loss.\n",
        "for model, encoder_config, lag, use_bias_setting, final_loss in model_info:\n",
        "    if final_loss < min_loss:\n",
        "        min_loss = final_loss\n",
        "        min_loss_config = (encoder_config, lag, use_bias_setting)\n",
        "\n",
        "# Print the configuration with the minimum loss.\n",
        "if min_loss_config is not None:\n",
        "    print(f\"Minimum Loss: {min_loss} with encoder {min_loss_config[0]}, lag {min_loss_config[1]}, and use_bias {min_loss_config[2]}\")\n",
        "else:\n",
        "    print(\"No models found or no valid loss values.\")\n"
      ],
      "metadata": {
        "colab": {
          "base_uri": "https://localhost:8080/"
        },
        "id": "NS4IoSmbWryF",
        "outputId": "abe887f6-3dce-4c5f-9e50-0ba2282956b1"
      },
      "execution_count": 37,
      "outputs": [
        {
          "output_type": "stream",
          "name": "stdout",
          "text": [
            "Minimum Loss: 0.5605203296806641 with encoder (84, 42, 28, 7), lag 1, and use_bias True\n"
          ]
        }
      ]
    },
    {
      "cell_type": "code",
      "source": [
        "ddfm7 = DDFM(df_train_idx, structure_encoder=(84, 42, 28, 7), lags_input=1, factor_oder=1,\n",
        "                             use_bias=False, link='tanh', max_iter=1000)\n",
        "ddfm7.fit()"
      ],
      "metadata": {
        "colab": {
          "base_uri": "https://localhost:8080/"
        },
        "id": "ANcBVSyXbUOQ",
        "outputId": "2ae9f933-5db9-4b6f-e722-b83da3314b3e"
      },
      "execution_count": 38,
      "outputs": [
        {
          "output_type": "stream",
          "name": "stdout",
          "text": [
            "@Info - Note: Sorting data.\n",
            "18/18 [==============================] - 0s 2ms/step\n",
            "@Info: Convergence achieved in 7 iterations - new loss: 0.5602081128154917 - delta: 0.00035190491042899163 < 0.0005\n"
          ]
        }
      ]
    },
    {
      "cell_type": "code",
      "source": [
        "last_state, last_state_var_cov_matrix = ddfm7.get_last_state()"
      ],
      "metadata": {
        "id": "3DW8Mcs_lBr8"
      },
      "execution_count": 39,
      "outputs": []
    },
    {
      "cell_type": "code",
      "source": [
        "steps_ahead =12  # for example, predict 5 steps ahead\n",
        "predictions7 = ddfm7.predict(last_state, last_state_var_cov_matrix, steps_ahead)\n",
        "#predictions7['states'].shape\n",
        "y_t_k_7=ddfm7.predict_observations(last_state,last_state_var_cov_matrix , steps_ahead)\n",
        "df_test_first_12_rows = data_test.iloc[:12, :]\n",
        "test_array12 = df_test_first_12_rows.to_numpy()\n",
        "mse_row12=np.mean((test_array12 - y_t_k_7)**2, axis=1)\n",
        "mse_12=np.mean(mse_row12)\n",
        "mae_12 = np.mean(np.abs(test_array12 - y_t_k_7))\n",
        "rmsfe_12 = np.sqrt(np.mean((test_array12 - y_t_k_7) ** 2))\n",
        "print(\"Mean Squared Error:\", mse_12)\n",
        "print(\"Mean Absolute Error:\", mae_12)\n",
        "print(\"Root Mean Squared Forecast Error:\", rmsfe_12)"
      ],
      "metadata": {
        "colab": {
          "base_uri": "https://localhost:8080/"
        },
        "id": "0hNvoapSS9Aw",
        "outputId": "b56fc8b0-2864-4319-e687-8a8abc1b1872"
      },
      "execution_count": 40,
      "outputs": [
        {
          "output_type": "stream",
          "name": "stdout",
          "text": [
            "Mean Squared Error: 3.232841019962182\n",
            "Mean Absolute Error: 1.262717970876207\n",
            "Root Mean Squared Forecast Error: 1.79801029473198\n"
          ]
        }
      ]
    },
    {
      "cell_type": "code",
      "source": [
        "steps_ahead = df_test_idx.shape[0]  # for example, predict 5 steps ahead\n",
        "predictions7 = ddfm7.predict(last_state, last_state_var_cov_matrix, steps_ahead)\n",
        "#predictions7['states'].shape\n",
        "y_t_k_7=ddfm7.predict_observations(last_state, last_state_var_cov_matrix, steps_ahead)\n",
        "#df_test_first_12_rows = df_test_idx.iloc[:12, :]\n",
        "test_array = data_test.to_numpy()\n",
        "mse_row=np.mean((test_array - y_t_k_7)**2, axis=1)\n",
        "mse_145=np.mean(mse_row)\n",
        "mae_145 = np.mean(np.abs(test_array - y_t_k_7))\n",
        "rmsfe_145 = np.sqrt(np.mean((test_array - y_t_k_7) ** 2))\n",
        "print(\"Mean Squared Error:\", mse_145)\n",
        "print(\"Mean Absolute Error:\", mae_145)\n",
        "print(\"Root Mean Squared Forecast Error:\", rmsfe_145)"
      ],
      "metadata": {
        "colab": {
          "base_uri": "https://localhost:8080/"
        },
        "id": "4YlQFFuIyjzO",
        "outputId": "9c3e5498-5609-4387-9b50-efc7fb28cd17"
      },
      "execution_count": 41,
      "outputs": [
        {
          "output_type": "stream",
          "name": "stdout",
          "text": [
            "Mean Squared Error: 0.9742071554240886\n",
            "Mean Absolute Error: 0.6889207397034728\n",
            "Root Mean Squared Forecast Error: 0.9870193287996383\n"
          ]
        }
      ]
    },
    {
      "cell_type": "markdown",
      "source": [
        "# Para 6 factores:"
      ],
      "metadata": {
        "id": "ZSNwENQ1XKii"
      }
    },
    {
      "cell_type": "code",
      "source": [
        "r = 6\n",
        "structure_encoders = [(r * 6, r * 4, r * 2, r),\n",
        "                      (r * 12, r * 6, r * 4, r)]\n",
        "\n",
        "lags_inputs = list(range(2))\n",
        "\n",
        "model_info = []\n",
        "\n",
        "# Iterate over both True and False values for use_bias\n",
        "for use_bias_setting in [True, False]:\n",
        "    # Iterate over each structure_encoder configuration\n",
        "    for structure_encoder in structure_encoders:\n",
        "        # Iterate over each lag value\n",
        "        for lags_input in lags_inputs:\n",
        "            # Initialize the DDFM with the current configuration and use_bias setting\n",
        "            ddfm = DDFM(df_train_idx, lags_input=lags_input, structure_encoder=structure_encoder,\n",
        "                        optimizer='Adam', factor_oder=1, use_bias=use_bias_setting, link='tanh',\n",
        "                        epochs=100, max_iter=1000)\n",
        "\n",
        "            # Fit the model\n",
        "            ddfm.fit()\n",
        "\n",
        "            # Store the model, its configuration, and final loss\n",
        "            final_loss = ddfm.loss_now\n",
        "            model_info.append((ddfm, structure_encoder, lags_input, use_bias_setting, final_loss))\n",
        "\n",
        "# Print the information for each model\n",
        "for model, encoder_config, lag, use_bias_setting, final_loss in model_info:\n",
        "    print(f\"Model with encoder {encoder_config}, lag {lag}, use_bias {use_bias_setting} - Final Loss: {final_loss}\")"
      ],
      "metadata": {
        "colab": {
          "base_uri": "https://localhost:8080/"
        },
        "id": "FumFiuWOoRmJ",
        "outputId": "96a123d8-df45-4543-b9db-3535bdcb8815"
      },
      "execution_count": 21,
      "outputs": [
        {
          "output_type": "stream",
          "name": "stdout",
          "text": [
            "@Info - Note: Sorting data.\n",
            "19/19 [==============================] - 0s 2ms/step\n",
            "@Info: Convergence achieved in 7 iterations - new loss: 0.5995689419402952 - delta: 0.0003461674847650658 < 0.0005\n",
            "@Info - Note: Sorting data.\n",
            "18/18 [==============================] - 0s 2ms/step\n",
            "@Info: Convergence achieved in 9 iterations - new loss: 0.5924710833917752 - delta: 0.0004006893896459243 < 0.0005\n",
            "@Info - Note: Sorting data.\n",
            "19/19 [==============================] - 0s 2ms/step\n",
            "@Info: Convergence achieved in 9 iterations - new loss: 0.5980999299260512 - delta: 0.0003835323473256483 < 0.0005\n",
            "@Info - Note: Sorting data.\n",
            "18/18 [==============================] - 0s 2ms/step\n",
            "@Info: Convergence achieved in 6 iterations - new loss: 0.590151673341049 - delta: 0.00045944281729073906 < 0.0005\n",
            "@Info - Note: Sorting data.\n",
            "19/19 [==============================] - 0s 2ms/step\n",
            "@Info: Convergence achieved in 5 iterations - new loss: 0.603700714247204 - delta: 3.0210114676002476e-05 < 0.0005\n",
            "@Info - Note: Sorting data.\n",
            "18/18 [==============================] - 0s 2ms/step\n",
            "@Info: Convergence achieved in 7 iterations - new loss: 0.5916266772955842 - delta: 0.00013811311073369645 < 0.0005\n",
            "@Info - Note: Sorting data.\n",
            "19/19 [==============================] - 0s 2ms/step\n",
            "@Info: Convergence achieved in 9 iterations - new loss: 0.5978516678700793 - delta: 5.685972419066721e-05 < 0.0005\n",
            "@Info - Note: Sorting data.\n",
            "18/18 [==============================] - 0s 2ms/step\n",
            "@Info: Convergence achieved in 6 iterations - new loss: 0.5903398422531636 - delta: 0.000267321685757516 < 0.0005\n",
            "Model with encoder (36, 24, 12, 6), lag 0, use_bias True - Final Loss: 0.5995689419402952\n",
            "Model with encoder (36, 24, 12, 6), lag 1, use_bias True - Final Loss: 0.5924710833917752\n",
            "Model with encoder (72, 36, 24, 6), lag 0, use_bias True - Final Loss: 0.5980999299260512\n",
            "Model with encoder (72, 36, 24, 6), lag 1, use_bias True - Final Loss: 0.590151673341049\n",
            "Model with encoder (36, 24, 12, 6), lag 0, use_bias False - Final Loss: 0.603700714247204\n",
            "Model with encoder (36, 24, 12, 6), lag 1, use_bias False - Final Loss: 0.5916266772955842\n",
            "Model with encoder (72, 36, 24, 6), lag 0, use_bias False - Final Loss: 0.5978516678700793\n",
            "Model with encoder (72, 36, 24, 6), lag 1, use_bias False - Final Loss: 0.5903398422531636\n"
          ]
        }
      ]
    },
    {
      "cell_type": "code",
      "source": [
        "# Initialize variables to store the minimum loss and associated configuration.\n",
        "min_loss = float('inf')\n",
        "min_loss_config = None\n",
        "\n",
        "# Iterate over the stored models to find the one with the minimum loss.\n",
        "for model, encoder_config, lag, use_bias_setting, final_loss in model_info:\n",
        "    if final_loss < min_loss:\n",
        "        min_loss = final_loss\n",
        "        min_loss_config = (encoder_config, lag, use_bias_setting)\n",
        "\n",
        "# Print the configuration with the minimum loss.\n",
        "if min_loss_config is not None:\n",
        "    print(f\"Minimum Loss: {min_loss} with encoder {min_loss_config[0]}, lag {min_loss_config[1]}, and use_bias {min_loss_config[2]}\")\n",
        "else:\n",
        "    print(\"No models found or no valid loss values.\")\n"
      ],
      "metadata": {
        "colab": {
          "base_uri": "https://localhost:8080/"
        },
        "id": "5ypLVGHMo69h",
        "outputId": "80ef42f6-69ca-48eb-e75a-723158259c13"
      },
      "execution_count": 22,
      "outputs": [
        {
          "output_type": "stream",
          "name": "stdout",
          "text": [
            "Minimum Loss: 0.590151673341049 with encoder (72, 36, 24, 6), lag 1, and use_bias True\n"
          ]
        }
      ]
    },
    {
      "cell_type": "code",
      "source": [
        "ddfm6 = DDFM(df_train_idx, structure_encoder=(72, 36, 6), lags_input=1, factor_oder=1,\n",
        "                             use_bias=False, link='tanh', max_iter=1000)\n",
        "ddfm6.fit()"
      ],
      "metadata": {
        "colab": {
          "base_uri": "https://localhost:8080/"
        },
        "id": "kBWbuZwx_6MV",
        "outputId": "ccdada03-59c5-4f2d-8675-9a7ec3ffc5c6"
      },
      "execution_count": 23,
      "outputs": [
        {
          "output_type": "stream",
          "name": "stdout",
          "text": [
            "@Info - Note: Sorting data.\n",
            "18/18 [==============================] - 0s 2ms/step\n",
            "@Info: Convergence achieved in 7 iterations - new loss: 0.5897180859958142 - delta: 0.00036826724971821743 < 0.0005\n"
          ]
        }
      ]
    },
    {
      "cell_type": "code",
      "source": [
        "last_state, last_state_var_cov_matrix = ddfm6.get_last_state()"
      ],
      "metadata": {
        "id": "g_jciHskfia-"
      },
      "execution_count": 24,
      "outputs": []
    },
    {
      "cell_type": "code",
      "source": [
        "last_state.shape"
      ],
      "metadata": {
        "colab": {
          "base_uri": "https://localhost:8080/"
        },
        "id": "YCMFDVPnfk2H",
        "outputId": "d45c7390-accc-445a-e539-896cd903bf90"
      },
      "execution_count": 25,
      "outputs": [
        {
          "output_type": "execute_result",
          "data": {
            "text/plain": [
              "(124,)"
            ]
          },
          "metadata": {},
          "execution_count": 25
        }
      ]
    },
    {
      "cell_type": "code",
      "source": [
        "steps_ahead = df_test_idx.shape[0]  # for example, predict 5 steps ahead\n",
        "predictions6 = ddfm6.predict(last_state, last_state_var_cov_matrix, steps_ahead)\n",
        "#predictions7['states'].shape\n",
        "y_t_k_6=ddfm6.predict_observations(last_state, last_state_var_cov_matrix , steps_ahead)\n",
        "#df_test_first_12_rows = df_test_idx.iloc[:12, :]\n",
        "test_array = data_test.to_numpy()\n",
        "mse_row=np.mean((test_array - y_t_k_6)**2, axis=1)\n",
        "mse_145=np.mean(mse_row)\n",
        "mae_145 = np.mean(np.abs(test_array - y_t_k_6))\n",
        "rmsfe_145 = np.sqrt(np.mean((test_array - y_t_k_6) ** 2))\n",
        "print(\"Mean Squared Error:\", mse_145)\n",
        "print(\"Mean Absolute Error:\", mae_145)\n",
        "print(\"Root Mean Squared Forecast Error:\", rmsfe_145)"
      ],
      "metadata": {
        "colab": {
          "base_uri": "https://localhost:8080/"
        },
        "id": "4TJefrAGCMhk",
        "outputId": "dc961bdb-1fee-4ae0-b6e8-20003abc96ac"
      },
      "execution_count": 27,
      "outputs": [
        {
          "output_type": "stream",
          "name": "stdout",
          "text": [
            "Mean Squared Error: 0.977012204749628\n",
            "Mean Absolute Error: 0.6897566487588299\n",
            "Root Mean Squared Forecast Error: 0.9884392772192069\n"
          ]
        }
      ]
    },
    {
      "cell_type": "code",
      "source": [
        "#n = ddfm.state_space.F.shape[0]\n",
        "#x_hat_start = np.zeros((1, n))\n",
        "#sigma_x_hat_start = np.eye(ddfm.state_space.F.shape[0])\n",
        "#x_hat_start.shape"
      ],
      "metadata": {
        "id": "7KYikWg204_6"
      },
      "execution_count": null,
      "outputs": []
    },
    {
      "cell_type": "code",
      "source": [
        "#dir(ddfm)"
      ],
      "metadata": {
        "id": "RNsajVuqvPNg"
      },
      "execution_count": null,
      "outputs": []
    },
    {
      "cell_type": "markdown",
      "source": [
        "### factores filtrados"
      ],
      "metadata": {
        "id": "ownemPmS75og"
      }
    },
    {
      "cell_type": "code",
      "source": [
        "ff6=ddfm6.factors_filtered\n",
        "ff6.shape"
      ],
      "metadata": {
        "colab": {
          "base_uri": "https://localhost:8080/"
        },
        "id": "TjdS7Pws2mDd",
        "outputId": "d41db3ce-f901-4822-99fa-1fe0f5334ebb"
      },
      "execution_count": 28,
      "outputs": [
        {
          "output_type": "execute_result",
          "data": {
            "text/plain": [
              "(577, 6)"
            ]
          },
          "metadata": {},
          "execution_count": 28
        }
      ]
    },
    {
      "cell_type": "code",
      "source": [
        "f_hat_ddfm_idx6 = pd.DataFrame(ff6, columns=[\"f1\", \"f2\", \"f3\", \"f4\", \"f5\", \"f6\"])"
      ],
      "metadata": {
        "id": "wkrZBYdr3rQN"
      },
      "execution_count": 29,
      "outputs": []
    },
    {
      "cell_type": "code",
      "source": [
        "f_hat_ddfm_idx6.head()"
      ],
      "metadata": {
        "colab": {
          "base_uri": "https://localhost:8080/",
          "height": 206
        },
        "id": "JKcP-ci6j1nx",
        "outputId": "e7d09aa9-252d-4f7e-e2ed-0a5c22f55ff4"
      },
      "execution_count": 30,
      "outputs": [
        {
          "output_type": "execute_result",
          "data": {
            "text/plain": [
              "         f1        f2        f3        f4        f5        f6\n",
              "0 -0.528321  0.001862  0.614600  0.651493  0.206933 -0.940086\n",
              "1  0.248153  0.200549 -0.033575 -0.038581 -0.618938  0.063320\n",
              "2 -0.266969  0.270688 -0.138920  0.006120 -0.694777  0.499269\n",
              "3  0.162667 -0.085176  0.053944 -0.066591 -0.455956  0.378463\n",
              "4 -0.187374  0.403998 -0.040056  0.002382  0.025598  0.206293"
            ],
            "text/html": [
              "\n",
              "  <div id=\"df-91d7926c-9a8e-46e4-a75a-90e36785afd6\" class=\"colab-df-container\">\n",
              "    <div>\n",
              "<style scoped>\n",
              "    .dataframe tbody tr th:only-of-type {\n",
              "        vertical-align: middle;\n",
              "    }\n",
              "\n",
              "    .dataframe tbody tr th {\n",
              "        vertical-align: top;\n",
              "    }\n",
              "\n",
              "    .dataframe thead th {\n",
              "        text-align: right;\n",
              "    }\n",
              "</style>\n",
              "<table border=\"1\" class=\"dataframe\">\n",
              "  <thead>\n",
              "    <tr style=\"text-align: right;\">\n",
              "      <th></th>\n",
              "      <th>f1</th>\n",
              "      <th>f2</th>\n",
              "      <th>f3</th>\n",
              "      <th>f4</th>\n",
              "      <th>f5</th>\n",
              "      <th>f6</th>\n",
              "    </tr>\n",
              "  </thead>\n",
              "  <tbody>\n",
              "    <tr>\n",
              "      <th>0</th>\n",
              "      <td>-0.528321</td>\n",
              "      <td>0.001862</td>\n",
              "      <td>0.614600</td>\n",
              "      <td>0.651493</td>\n",
              "      <td>0.206933</td>\n",
              "      <td>-0.940086</td>\n",
              "    </tr>\n",
              "    <tr>\n",
              "      <th>1</th>\n",
              "      <td>0.248153</td>\n",
              "      <td>0.200549</td>\n",
              "      <td>-0.033575</td>\n",
              "      <td>-0.038581</td>\n",
              "      <td>-0.618938</td>\n",
              "      <td>0.063320</td>\n",
              "    </tr>\n",
              "    <tr>\n",
              "      <th>2</th>\n",
              "      <td>-0.266969</td>\n",
              "      <td>0.270688</td>\n",
              "      <td>-0.138920</td>\n",
              "      <td>0.006120</td>\n",
              "      <td>-0.694777</td>\n",
              "      <td>0.499269</td>\n",
              "    </tr>\n",
              "    <tr>\n",
              "      <th>3</th>\n",
              "      <td>0.162667</td>\n",
              "      <td>-0.085176</td>\n",
              "      <td>0.053944</td>\n",
              "      <td>-0.066591</td>\n",
              "      <td>-0.455956</td>\n",
              "      <td>0.378463</td>\n",
              "    </tr>\n",
              "    <tr>\n",
              "      <th>4</th>\n",
              "      <td>-0.187374</td>\n",
              "      <td>0.403998</td>\n",
              "      <td>-0.040056</td>\n",
              "      <td>0.002382</td>\n",
              "      <td>0.025598</td>\n",
              "      <td>0.206293</td>\n",
              "    </tr>\n",
              "  </tbody>\n",
              "</table>\n",
              "</div>\n",
              "    <div class=\"colab-df-buttons\">\n",
              "\n",
              "  <div class=\"colab-df-container\">\n",
              "    <button class=\"colab-df-convert\" onclick=\"convertToInteractive('df-91d7926c-9a8e-46e4-a75a-90e36785afd6')\"\n",
              "            title=\"Convert this dataframe to an interactive table.\"\n",
              "            style=\"display:none;\">\n",
              "\n",
              "  <svg xmlns=\"http://www.w3.org/2000/svg\" height=\"24px\" viewBox=\"0 -960 960 960\">\n",
              "    <path d=\"M120-120v-720h720v720H120Zm60-500h600v-160H180v160Zm220 220h160v-160H400v160Zm0 220h160v-160H400v160ZM180-400h160v-160H180v160Zm440 0h160v-160H620v160ZM180-180h160v-160H180v160Zm440 0h160v-160H620v160Z\"/>\n",
              "  </svg>\n",
              "    </button>\n",
              "\n",
              "  <style>\n",
              "    .colab-df-container {\n",
              "      display:flex;\n",
              "      gap: 12px;\n",
              "    }\n",
              "\n",
              "    .colab-df-convert {\n",
              "      background-color: #E8F0FE;\n",
              "      border: none;\n",
              "      border-radius: 50%;\n",
              "      cursor: pointer;\n",
              "      display: none;\n",
              "      fill: #1967D2;\n",
              "      height: 32px;\n",
              "      padding: 0 0 0 0;\n",
              "      width: 32px;\n",
              "    }\n",
              "\n",
              "    .colab-df-convert:hover {\n",
              "      background-color: #E2EBFA;\n",
              "      box-shadow: 0px 1px 2px rgba(60, 64, 67, 0.3), 0px 1px 3px 1px rgba(60, 64, 67, 0.15);\n",
              "      fill: #174EA6;\n",
              "    }\n",
              "\n",
              "    .colab-df-buttons div {\n",
              "      margin-bottom: 4px;\n",
              "    }\n",
              "\n",
              "    [theme=dark] .colab-df-convert {\n",
              "      background-color: #3B4455;\n",
              "      fill: #D2E3FC;\n",
              "    }\n",
              "\n",
              "    [theme=dark] .colab-df-convert:hover {\n",
              "      background-color: #434B5C;\n",
              "      box-shadow: 0px 1px 3px 1px rgba(0, 0, 0, 0.15);\n",
              "      filter: drop-shadow(0px 1px 2px rgba(0, 0, 0, 0.3));\n",
              "      fill: #FFFFFF;\n",
              "    }\n",
              "  </style>\n",
              "\n",
              "    <script>\n",
              "      const buttonEl =\n",
              "        document.querySelector('#df-91d7926c-9a8e-46e4-a75a-90e36785afd6 button.colab-df-convert');\n",
              "      buttonEl.style.display =\n",
              "        google.colab.kernel.accessAllowed ? 'block' : 'none';\n",
              "\n",
              "      async function convertToInteractive(key) {\n",
              "        const element = document.querySelector('#df-91d7926c-9a8e-46e4-a75a-90e36785afd6');\n",
              "        const dataTable =\n",
              "          await google.colab.kernel.invokeFunction('convertToInteractive',\n",
              "                                                    [key], {});\n",
              "        if (!dataTable) return;\n",
              "\n",
              "        const docLinkHtml = 'Like what you see? Visit the ' +\n",
              "          '<a target=\"_blank\" href=https://colab.research.google.com/notebooks/data_table.ipynb>data table notebook</a>'\n",
              "          + ' to learn more about interactive tables.';\n",
              "        element.innerHTML = '';\n",
              "        dataTable['output_type'] = 'display_data';\n",
              "        await google.colab.output.renderOutput(dataTable, element);\n",
              "        const docLink = document.createElement('div');\n",
              "        docLink.innerHTML = docLinkHtml;\n",
              "        element.appendChild(docLink);\n",
              "      }\n",
              "    </script>\n",
              "  </div>\n",
              "\n",
              "\n",
              "<div id=\"df-763cee4e-2878-46a7-a0c5-f2f20f330f8c\">\n",
              "  <button class=\"colab-df-quickchart\" onclick=\"quickchart('df-763cee4e-2878-46a7-a0c5-f2f20f330f8c')\"\n",
              "            title=\"Suggest charts\"\n",
              "            style=\"display:none;\">\n",
              "\n",
              "<svg xmlns=\"http://www.w3.org/2000/svg\" height=\"24px\"viewBox=\"0 0 24 24\"\n",
              "     width=\"24px\">\n",
              "    <g>\n",
              "        <path d=\"M19 3H5c-1.1 0-2 .9-2 2v14c0 1.1.9 2 2 2h14c1.1 0 2-.9 2-2V5c0-1.1-.9-2-2-2zM9 17H7v-7h2v7zm4 0h-2V7h2v10zm4 0h-2v-4h2v4z\"/>\n",
              "    </g>\n",
              "</svg>\n",
              "  </button>\n",
              "\n",
              "<style>\n",
              "  .colab-df-quickchart {\n",
              "      --bg-color: #E8F0FE;\n",
              "      --fill-color: #1967D2;\n",
              "      --hover-bg-color: #E2EBFA;\n",
              "      --hover-fill-color: #174EA6;\n",
              "      --disabled-fill-color: #AAA;\n",
              "      --disabled-bg-color: #DDD;\n",
              "  }\n",
              "\n",
              "  [theme=dark] .colab-df-quickchart {\n",
              "      --bg-color: #3B4455;\n",
              "      --fill-color: #D2E3FC;\n",
              "      --hover-bg-color: #434B5C;\n",
              "      --hover-fill-color: #FFFFFF;\n",
              "      --disabled-bg-color: #3B4455;\n",
              "      --disabled-fill-color: #666;\n",
              "  }\n",
              "\n",
              "  .colab-df-quickchart {\n",
              "    background-color: var(--bg-color);\n",
              "    border: none;\n",
              "    border-radius: 50%;\n",
              "    cursor: pointer;\n",
              "    display: none;\n",
              "    fill: var(--fill-color);\n",
              "    height: 32px;\n",
              "    padding: 0;\n",
              "    width: 32px;\n",
              "  }\n",
              "\n",
              "  .colab-df-quickchart:hover {\n",
              "    background-color: var(--hover-bg-color);\n",
              "    box-shadow: 0 1px 2px rgba(60, 64, 67, 0.3), 0 1px 3px 1px rgba(60, 64, 67, 0.15);\n",
              "    fill: var(--button-hover-fill-color);\n",
              "  }\n",
              "\n",
              "  .colab-df-quickchart-complete:disabled,\n",
              "  .colab-df-quickchart-complete:disabled:hover {\n",
              "    background-color: var(--disabled-bg-color);\n",
              "    fill: var(--disabled-fill-color);\n",
              "    box-shadow: none;\n",
              "  }\n",
              "\n",
              "  .colab-df-spinner {\n",
              "    border: 2px solid var(--fill-color);\n",
              "    border-color: transparent;\n",
              "    border-bottom-color: var(--fill-color);\n",
              "    animation:\n",
              "      spin 1s steps(1) infinite;\n",
              "  }\n",
              "\n",
              "  @keyframes spin {\n",
              "    0% {\n",
              "      border-color: transparent;\n",
              "      border-bottom-color: var(--fill-color);\n",
              "      border-left-color: var(--fill-color);\n",
              "    }\n",
              "    20% {\n",
              "      border-color: transparent;\n",
              "      border-left-color: var(--fill-color);\n",
              "      border-top-color: var(--fill-color);\n",
              "    }\n",
              "    30% {\n",
              "      border-color: transparent;\n",
              "      border-left-color: var(--fill-color);\n",
              "      border-top-color: var(--fill-color);\n",
              "      border-right-color: var(--fill-color);\n",
              "    }\n",
              "    40% {\n",
              "      border-color: transparent;\n",
              "      border-right-color: var(--fill-color);\n",
              "      border-top-color: var(--fill-color);\n",
              "    }\n",
              "    60% {\n",
              "      border-color: transparent;\n",
              "      border-right-color: var(--fill-color);\n",
              "    }\n",
              "    80% {\n",
              "      border-color: transparent;\n",
              "      border-right-color: var(--fill-color);\n",
              "      border-bottom-color: var(--fill-color);\n",
              "    }\n",
              "    90% {\n",
              "      border-color: transparent;\n",
              "      border-bottom-color: var(--fill-color);\n",
              "    }\n",
              "  }\n",
              "</style>\n",
              "\n",
              "  <script>\n",
              "    async function quickchart(key) {\n",
              "      const quickchartButtonEl =\n",
              "        document.querySelector('#' + key + ' button');\n",
              "      quickchartButtonEl.disabled = true;  // To prevent multiple clicks.\n",
              "      quickchartButtonEl.classList.add('colab-df-spinner');\n",
              "      try {\n",
              "        const charts = await google.colab.kernel.invokeFunction(\n",
              "            'suggestCharts', [key], {});\n",
              "      } catch (error) {\n",
              "        console.error('Error during call to suggestCharts:', error);\n",
              "      }\n",
              "      quickchartButtonEl.classList.remove('colab-df-spinner');\n",
              "      quickchartButtonEl.classList.add('colab-df-quickchart-complete');\n",
              "    }\n",
              "    (() => {\n",
              "      let quickchartButtonEl =\n",
              "        document.querySelector('#df-763cee4e-2878-46a7-a0c5-f2f20f330f8c button');\n",
              "      quickchartButtonEl.style.display =\n",
              "        google.colab.kernel.accessAllowed ? 'block' : 'none';\n",
              "    })();\n",
              "  </script>\n",
              "</div>\n",
              "    </div>\n",
              "  </div>\n"
            ]
          },
          "metadata": {},
          "execution_count": 30
        }
      ]
    },
    {
      "cell_type": "code",
      "source": [
        "f_hat_ddfm_idx6.index = df_train_idx.index\n",
        "f_hat_ddfm6=f_hat_ddfm_idx6.reset_index()"
      ],
      "metadata": {
        "id": "Z1bw1Epy6Pje"
      },
      "execution_count": 31,
      "outputs": []
    },
    {
      "cell_type": "code",
      "source": [
        "f_hat_ddfm6.head()"
      ],
      "metadata": {
        "colab": {
          "base_uri": "https://localhost:8080/",
          "height": 206
        },
        "id": "xjh8JVh-jrzU",
        "outputId": "0eb660d5-c1e9-4177-d9f6-fdf39cd04ae0"
      },
      "execution_count": 33,
      "outputs": [
        {
          "output_type": "execute_result",
          "data": {
            "text/plain": [
              "        index        f1        f2        f3        f4        f5        f6\n",
              "0  1960-01-01 -0.528321  0.001862  0.614600  0.651493  0.206933 -0.940086\n",
              "1  1960-02-01  0.248153  0.200549 -0.033575 -0.038581 -0.618938  0.063320\n",
              "2  1960-03-01 -0.266969  0.270688 -0.138920  0.006120 -0.694777  0.499269\n",
              "3  1960-04-01  0.162667 -0.085176  0.053944 -0.066591 -0.455956  0.378463\n",
              "4  1960-05-01 -0.187374  0.403998 -0.040056  0.002382  0.025598  0.206293"
            ],
            "text/html": [
              "\n",
              "  <div id=\"df-ca97945b-ec32-4bc0-9e73-87d65f34cb35\" class=\"colab-df-container\">\n",
              "    <div>\n",
              "<style scoped>\n",
              "    .dataframe tbody tr th:only-of-type {\n",
              "        vertical-align: middle;\n",
              "    }\n",
              "\n",
              "    .dataframe tbody tr th {\n",
              "        vertical-align: top;\n",
              "    }\n",
              "\n",
              "    .dataframe thead th {\n",
              "        text-align: right;\n",
              "    }\n",
              "</style>\n",
              "<table border=\"1\" class=\"dataframe\">\n",
              "  <thead>\n",
              "    <tr style=\"text-align: right;\">\n",
              "      <th></th>\n",
              "      <th>index</th>\n",
              "      <th>f1</th>\n",
              "      <th>f2</th>\n",
              "      <th>f3</th>\n",
              "      <th>f4</th>\n",
              "      <th>f5</th>\n",
              "      <th>f6</th>\n",
              "    </tr>\n",
              "  </thead>\n",
              "  <tbody>\n",
              "    <tr>\n",
              "      <th>0</th>\n",
              "      <td>1960-01-01</td>\n",
              "      <td>-0.528321</td>\n",
              "      <td>0.001862</td>\n",
              "      <td>0.614600</td>\n",
              "      <td>0.651493</td>\n",
              "      <td>0.206933</td>\n",
              "      <td>-0.940086</td>\n",
              "    </tr>\n",
              "    <tr>\n",
              "      <th>1</th>\n",
              "      <td>1960-02-01</td>\n",
              "      <td>0.248153</td>\n",
              "      <td>0.200549</td>\n",
              "      <td>-0.033575</td>\n",
              "      <td>-0.038581</td>\n",
              "      <td>-0.618938</td>\n",
              "      <td>0.063320</td>\n",
              "    </tr>\n",
              "    <tr>\n",
              "      <th>2</th>\n",
              "      <td>1960-03-01</td>\n",
              "      <td>-0.266969</td>\n",
              "      <td>0.270688</td>\n",
              "      <td>-0.138920</td>\n",
              "      <td>0.006120</td>\n",
              "      <td>-0.694777</td>\n",
              "      <td>0.499269</td>\n",
              "    </tr>\n",
              "    <tr>\n",
              "      <th>3</th>\n",
              "      <td>1960-04-01</td>\n",
              "      <td>0.162667</td>\n",
              "      <td>-0.085176</td>\n",
              "      <td>0.053944</td>\n",
              "      <td>-0.066591</td>\n",
              "      <td>-0.455956</td>\n",
              "      <td>0.378463</td>\n",
              "    </tr>\n",
              "    <tr>\n",
              "      <th>4</th>\n",
              "      <td>1960-05-01</td>\n",
              "      <td>-0.187374</td>\n",
              "      <td>0.403998</td>\n",
              "      <td>-0.040056</td>\n",
              "      <td>0.002382</td>\n",
              "      <td>0.025598</td>\n",
              "      <td>0.206293</td>\n",
              "    </tr>\n",
              "  </tbody>\n",
              "</table>\n",
              "</div>\n",
              "    <div class=\"colab-df-buttons\">\n",
              "\n",
              "  <div class=\"colab-df-container\">\n",
              "    <button class=\"colab-df-convert\" onclick=\"convertToInteractive('df-ca97945b-ec32-4bc0-9e73-87d65f34cb35')\"\n",
              "            title=\"Convert this dataframe to an interactive table.\"\n",
              "            style=\"display:none;\">\n",
              "\n",
              "  <svg xmlns=\"http://www.w3.org/2000/svg\" height=\"24px\" viewBox=\"0 -960 960 960\">\n",
              "    <path d=\"M120-120v-720h720v720H120Zm60-500h600v-160H180v160Zm220 220h160v-160H400v160Zm0 220h160v-160H400v160ZM180-400h160v-160H180v160Zm440 0h160v-160H620v160ZM180-180h160v-160H180v160Zm440 0h160v-160H620v160Z\"/>\n",
              "  </svg>\n",
              "    </button>\n",
              "\n",
              "  <style>\n",
              "    .colab-df-container {\n",
              "      display:flex;\n",
              "      gap: 12px;\n",
              "    }\n",
              "\n",
              "    .colab-df-convert {\n",
              "      background-color: #E8F0FE;\n",
              "      border: none;\n",
              "      border-radius: 50%;\n",
              "      cursor: pointer;\n",
              "      display: none;\n",
              "      fill: #1967D2;\n",
              "      height: 32px;\n",
              "      padding: 0 0 0 0;\n",
              "      width: 32px;\n",
              "    }\n",
              "\n",
              "    .colab-df-convert:hover {\n",
              "      background-color: #E2EBFA;\n",
              "      box-shadow: 0px 1px 2px rgba(60, 64, 67, 0.3), 0px 1px 3px 1px rgba(60, 64, 67, 0.15);\n",
              "      fill: #174EA6;\n",
              "    }\n",
              "\n",
              "    .colab-df-buttons div {\n",
              "      margin-bottom: 4px;\n",
              "    }\n",
              "\n",
              "    [theme=dark] .colab-df-convert {\n",
              "      background-color: #3B4455;\n",
              "      fill: #D2E3FC;\n",
              "    }\n",
              "\n",
              "    [theme=dark] .colab-df-convert:hover {\n",
              "      background-color: #434B5C;\n",
              "      box-shadow: 0px 1px 3px 1px rgba(0, 0, 0, 0.15);\n",
              "      filter: drop-shadow(0px 1px 2px rgba(0, 0, 0, 0.3));\n",
              "      fill: #FFFFFF;\n",
              "    }\n",
              "  </style>\n",
              "\n",
              "    <script>\n",
              "      const buttonEl =\n",
              "        document.querySelector('#df-ca97945b-ec32-4bc0-9e73-87d65f34cb35 button.colab-df-convert');\n",
              "      buttonEl.style.display =\n",
              "        google.colab.kernel.accessAllowed ? 'block' : 'none';\n",
              "\n",
              "      async function convertToInteractive(key) {\n",
              "        const element = document.querySelector('#df-ca97945b-ec32-4bc0-9e73-87d65f34cb35');\n",
              "        const dataTable =\n",
              "          await google.colab.kernel.invokeFunction('convertToInteractive',\n",
              "                                                    [key], {});\n",
              "        if (!dataTable) return;\n",
              "\n",
              "        const docLinkHtml = 'Like what you see? Visit the ' +\n",
              "          '<a target=\"_blank\" href=https://colab.research.google.com/notebooks/data_table.ipynb>data table notebook</a>'\n",
              "          + ' to learn more about interactive tables.';\n",
              "        element.innerHTML = '';\n",
              "        dataTable['output_type'] = 'display_data';\n",
              "        await google.colab.output.renderOutput(dataTable, element);\n",
              "        const docLink = document.createElement('div');\n",
              "        docLink.innerHTML = docLinkHtml;\n",
              "        element.appendChild(docLink);\n",
              "      }\n",
              "    </script>\n",
              "  </div>\n",
              "\n",
              "\n",
              "<div id=\"df-70dcc276-0d2e-41c3-99c6-822b07683def\">\n",
              "  <button class=\"colab-df-quickchart\" onclick=\"quickchart('df-70dcc276-0d2e-41c3-99c6-822b07683def')\"\n",
              "            title=\"Suggest charts\"\n",
              "            style=\"display:none;\">\n",
              "\n",
              "<svg xmlns=\"http://www.w3.org/2000/svg\" height=\"24px\"viewBox=\"0 0 24 24\"\n",
              "     width=\"24px\">\n",
              "    <g>\n",
              "        <path d=\"M19 3H5c-1.1 0-2 .9-2 2v14c0 1.1.9 2 2 2h14c1.1 0 2-.9 2-2V5c0-1.1-.9-2-2-2zM9 17H7v-7h2v7zm4 0h-2V7h2v10zm4 0h-2v-4h2v4z\"/>\n",
              "    </g>\n",
              "</svg>\n",
              "  </button>\n",
              "\n",
              "<style>\n",
              "  .colab-df-quickchart {\n",
              "      --bg-color: #E8F0FE;\n",
              "      --fill-color: #1967D2;\n",
              "      --hover-bg-color: #E2EBFA;\n",
              "      --hover-fill-color: #174EA6;\n",
              "      --disabled-fill-color: #AAA;\n",
              "      --disabled-bg-color: #DDD;\n",
              "  }\n",
              "\n",
              "  [theme=dark] .colab-df-quickchart {\n",
              "      --bg-color: #3B4455;\n",
              "      --fill-color: #D2E3FC;\n",
              "      --hover-bg-color: #434B5C;\n",
              "      --hover-fill-color: #FFFFFF;\n",
              "      --disabled-bg-color: #3B4455;\n",
              "      --disabled-fill-color: #666;\n",
              "  }\n",
              "\n",
              "  .colab-df-quickchart {\n",
              "    background-color: var(--bg-color);\n",
              "    border: none;\n",
              "    border-radius: 50%;\n",
              "    cursor: pointer;\n",
              "    display: none;\n",
              "    fill: var(--fill-color);\n",
              "    height: 32px;\n",
              "    padding: 0;\n",
              "    width: 32px;\n",
              "  }\n",
              "\n",
              "  .colab-df-quickchart:hover {\n",
              "    background-color: var(--hover-bg-color);\n",
              "    box-shadow: 0 1px 2px rgba(60, 64, 67, 0.3), 0 1px 3px 1px rgba(60, 64, 67, 0.15);\n",
              "    fill: var(--button-hover-fill-color);\n",
              "  }\n",
              "\n",
              "  .colab-df-quickchart-complete:disabled,\n",
              "  .colab-df-quickchart-complete:disabled:hover {\n",
              "    background-color: var(--disabled-bg-color);\n",
              "    fill: var(--disabled-fill-color);\n",
              "    box-shadow: none;\n",
              "  }\n",
              "\n",
              "  .colab-df-spinner {\n",
              "    border: 2px solid var(--fill-color);\n",
              "    border-color: transparent;\n",
              "    border-bottom-color: var(--fill-color);\n",
              "    animation:\n",
              "      spin 1s steps(1) infinite;\n",
              "  }\n",
              "\n",
              "  @keyframes spin {\n",
              "    0% {\n",
              "      border-color: transparent;\n",
              "      border-bottom-color: var(--fill-color);\n",
              "      border-left-color: var(--fill-color);\n",
              "    }\n",
              "    20% {\n",
              "      border-color: transparent;\n",
              "      border-left-color: var(--fill-color);\n",
              "      border-top-color: var(--fill-color);\n",
              "    }\n",
              "    30% {\n",
              "      border-color: transparent;\n",
              "      border-left-color: var(--fill-color);\n",
              "      border-top-color: var(--fill-color);\n",
              "      border-right-color: var(--fill-color);\n",
              "    }\n",
              "    40% {\n",
              "      border-color: transparent;\n",
              "      border-right-color: var(--fill-color);\n",
              "      border-top-color: var(--fill-color);\n",
              "    }\n",
              "    60% {\n",
              "      border-color: transparent;\n",
              "      border-right-color: var(--fill-color);\n",
              "    }\n",
              "    80% {\n",
              "      border-color: transparent;\n",
              "      border-right-color: var(--fill-color);\n",
              "      border-bottom-color: var(--fill-color);\n",
              "    }\n",
              "    90% {\n",
              "      border-color: transparent;\n",
              "      border-bottom-color: var(--fill-color);\n",
              "    }\n",
              "  }\n",
              "</style>\n",
              "\n",
              "  <script>\n",
              "    async function quickchart(key) {\n",
              "      const quickchartButtonEl =\n",
              "        document.querySelector('#' + key + ' button');\n",
              "      quickchartButtonEl.disabled = true;  // To prevent multiple clicks.\n",
              "      quickchartButtonEl.classList.add('colab-df-spinner');\n",
              "      try {\n",
              "        const charts = await google.colab.kernel.invokeFunction(\n",
              "            'suggestCharts', [key], {});\n",
              "      } catch (error) {\n",
              "        console.error('Error during call to suggestCharts:', error);\n",
              "      }\n",
              "      quickchartButtonEl.classList.remove('colab-df-spinner');\n",
              "      quickchartButtonEl.classList.add('colab-df-quickchart-complete');\n",
              "    }\n",
              "    (() => {\n",
              "      let quickchartButtonEl =\n",
              "        document.querySelector('#df-70dcc276-0d2e-41c3-99c6-822b07683def button');\n",
              "      quickchartButtonEl.style.display =\n",
              "        google.colab.kernel.accessAllowed ? 'block' : 'none';\n",
              "    })();\n",
              "  </script>\n",
              "</div>\n",
              "    </div>\n",
              "  </div>\n"
            ]
          },
          "metadata": {},
          "execution_count": 33
        }
      ]
    },
    {
      "cell_type": "code",
      "source": [
        "f_hat_ddfm_idx6.to_csv('/content/drive/MyDrive/D2FM/f_hat_ddfm_fact6.csv', index=False)"
      ],
      "metadata": {
        "id": "5NLMaDQR4Wqj"
      },
      "execution_count": 35,
      "outputs": []
    }
  ],
  "metadata": {
    "colab": {
      "provenance": []
    },
    "kernelspec": {
      "display_name": "Python 3",
      "name": "python3"
    },
    "language_info": {
      "name": "python"
    }
  },
  "nbformat": 4,
  "nbformat_minor": 0
}