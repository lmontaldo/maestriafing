{
  "cells": [
    {
      "cell_type": "markdown",
      "source": [],
      "metadata": {
        "id": "Cd4nMBK48QS-"
      }
    },
    {
      "cell_type": "code",
      "source": [
        "import os,sys,inspect\n",
        "currentdir = os.path.dirname(os.path.abspath(inspect.getfile(inspect.currentframe())))\n",
        "parentdir = os.path.dirname(currentdir)\n",
        "parentdir = os.path.dirname(parentdir)\n",
        "sys.path.insert(0,parentdir)"
      ],
      "metadata": {
        "id": "IUTkX92sKF5N"
      },
      "execution_count": 1,
      "outputs": []
    },
    {
      "cell_type": "code",
      "source": [
        "from google.colab import drive\n",
        "drive.mount('/content/drive')"
      ],
      "metadata": {
        "colab": {
          "base_uri": "https://localhost:8080/"
        },
        "id": "Xll83j-0QPuY",
        "outputId": "888db0ca-9fc1-4c04-b41c-c3e60aa88531"
      },
      "execution_count": 2,
      "outputs": [
        {
          "output_type": "stream",
          "name": "stdout",
          "text": [
            "Drive already mounted at /content/drive; to attempt to forcibly remount, call drive.mount(\"/content/drive\", force_remount=True).\n"
          ]
        }
      ]
    },
    {
      "cell_type": "code",
      "source": [
        "import sys\n",
        "sys.path.append('/content/drive/My Drive/D2FM')\n",
        "module_path = '/content/drive/My Drive/D2FM'\n",
        "if module_path not in sys.path:\n",
        "    sys.path.append(module_path)"
      ],
      "metadata": {
        "id": "OHQp36zkQZ_o"
      },
      "execution_count": 3,
      "outputs": []
    },
    {
      "cell_type": "code",
      "source": [
        "!pip install pykalman"
      ],
      "metadata": {
        "colab": {
          "base_uri": "https://localhost:8080/"
        },
        "id": "OS3rYn20WLyj",
        "outputId": "914cfd03-644b-4528-d384-fe51d81f4e7f"
      },
      "execution_count": 4,
      "outputs": [
        {
          "output_type": "stream",
          "name": "stdout",
          "text": [
            "Requirement already satisfied: pykalman in /usr/local/lib/python3.10/dist-packages (0.9.5)\n"
          ]
        }
      ]
    },
    {
      "cell_type": "code",
      "source": [
        "import models.ddfm"
      ],
      "metadata": {
        "id": "sfZM6nNNVDp0"
      },
      "execution_count": 5,
      "outputs": []
    },
    {
      "cell_type": "code",
      "execution_count": 6,
      "metadata": {
        "id": "--U2KPzqary4"
      },
      "outputs": [],
      "source": [
        "import numpy as np\n",
        "import pandas as pd\n",
        "import tensorflow as tf\n",
        "from typing import Tuple\n",
        "from tensorflow import keras\n",
        "from tensorflow.keras import layers\n",
        "from statsmodels.tsa.statespace.dynamic_factor_mq import DynamicFactorMQ as DFM\n",
        "from sklearn.model_selection import ParameterGrid"
      ]
    },
    {
      "cell_type": "code",
      "execution_count": 7,
      "metadata": {
        "id": "0cgoKGqbd-ea"
      },
      "outputs": [],
      "source": [
        "#from google.colab import files\n",
        "#uploaded = files.upload()"
      ]
    },
    {
      "cell_type": "code",
      "execution_count": 8,
      "metadata": {
        "id": "Jk9uMGiReqjf"
      },
      "outputs": [],
      "source": [
        "from models.ddfm import DDFM\n",
        "from synthetic_dgp.simulate import SIMULATE\n",
        "import warnings\n",
        "warnings.filterwarnings(\"ignore\")\n",
        "import random"
      ]
    },
    {
      "cell_type": "code",
      "execution_count": 9,
      "metadata": {
        "id": "s5TS6VMnrDrw"
      },
      "outputs": [],
      "source": [
        "df_train = pd.read_csv('/content/drive/MyDrive/D2FM/sfr_train.csv')\n",
        "df_test=pd.read_csv('/content/drive/MyDrive/D2FM/sfr_train.csv')\n",
        "df_train_idx=df_train.set_index(\"index\")\n",
        "df_test_idx=df_train.set_index(\"index\")"
      ]
    },
    {
      "cell_type": "markdown",
      "source": [
        "## Se corre el algoritmo 1 para distintas grillas de estructura de encoders, entradas de lags, considerando que la verdadera cantidad de factores es 7"
      ],
      "metadata": {
        "id": "u7zhGQWi791u"
      }
    },
    {
      "cell_type": "code",
      "source": [
        "r_true=7\n",
        "structure_encoders = [\n",
        "    (r_true * 4, r_true * 2, r_true),\n",
        "    (r_true * 6, r_true * 4, r_true),\n",
        "    (r_true * 12, r_true * 6, r_true)\n",
        "]\n",
        "\n",
        "# Define the lags to be used as input.\n",
        "lags_inputs = list(range(3))\n",
        "\n",
        "# Placeholder for storing models if needed.\n",
        "model_info = []\n",
        "# Iterate over each structure_encoder configuration.\n",
        "for structure_encoder in structure_encoders:\n",
        "    # Iterate over each lag value.\n",
        "    for lags_input in lags_inputs:\n",
        "        # Initialize the DDFM with the current configuration.\n",
        "        ddfm = DDFM(df_train_idx, lags_input=lags_input, structure_encoder=structure_encoder, optimizer='Adam',\n",
        "                    factor_oder=1, use_bias=False, link='tanh', epochs=100, max_iter=1000)\n",
        "\n",
        "        # Fit the model.\n",
        "        ddfm.fit()\n",
        "        print(model_info.append((ddfm, structure_encoder, lags_input)))\n",
        "        #predicted=ddfm.predict()\n",
        "\n",
        "for model, encoder_config, lag in model_info:\n",
        "    print(f\"Model with encoder {encoder_config} , lag {lag}\")\n"
      ],
      "metadata": {
        "colab": {
          "base_uri": "https://localhost:8080/"
        },
        "id": "0J_VF9jCfEsu",
        "outputId": "f185d72e-a129-4a10-dd7b-0de98c8e0cd3"
      },
      "execution_count": 10,
      "outputs": [
        {
          "output_type": "stream",
          "name": "stdout",
          "text": [
            "@Info - Note: Sorting data.\n",
            "19/19 [==============================] - 0s 5ms/step\n",
            "@Info: Convergence achieved in 9 iterations - new loss: 0.5688758629767554 - delta: 0.00040501166274600634 < 0.0005\n",
            "None\n",
            "@Info - Note: Sorting data.\n",
            "18/18 [==============================] - 0s 2ms/step\n",
            "None\n",
            "@Info - Note: Sorting data.\n",
            "18/18 [==============================] - 0s 4ms/step\n",
            "@Info: Convergence achieved in 9 iterations - new loss: 0.561019267302351 - delta: 0.0002805175683906425 < 0.0005\n",
            "None\n",
            "@Info - Note: Sorting data.\n",
            "19/19 [==============================] - 0s 3ms/step\n",
            "@Info: Convergence achieved in 8 iterations - new loss: 0.5671230690723299 - delta: 0.00031357047570418367 < 0.0005\n",
            "None\n",
            "@Info - Note: Sorting data.\n",
            "18/18 [==============================] - 0s 2ms/step\n",
            "@Info: Convergence achieved in 7 iterations - new loss: 0.5612291745400497 - delta: 0.0004773610331235264 < 0.0005\n",
            "None\n",
            "@Info - Note: Sorting data.\n",
            "18/18 [==============================] - 0s 2ms/step\n",
            "@Info: Convergence achieved in 6 iterations - new loss: 0.5605957289417632 - delta: 0.0004035856194067514 < 0.0005\n",
            "None\n",
            "@Info - Note: Sorting data.\n",
            "19/19 [==============================] - 0s 2ms/step\n",
            "@Info: Convergence achieved in 7 iterations - new loss: 0.5656184886506592 - delta: 0.00023847439563792113 < 0.0005\n",
            "None\n",
            "@Info - Note: Sorting data.\n",
            "18/18 [==============================] - 0s 2ms/step\n",
            "@Info: Convergence achieved in 5 iterations - new loss: 0.560493710674537 - delta: 0.00035009206797715926 < 0.0005\n",
            "None\n",
            "@Info - Note: Sorting data.\n",
            "18/18 [==============================] - 0s 3ms/step\n",
            "@Info: Convergence achieved in 6 iterations - new loss: 0.5600400213875708 - delta: 0.0003170428997096892 < 0.0005\n",
            "None\n",
            "Model with encoder (28, 14, 7) , lag 0\n",
            "Model with encoder (28, 14, 7) , lag 1\n",
            "Model with encoder (28, 14, 7) , lag 2\n",
            "Model with encoder (42, 28, 7) , lag 0\n",
            "Model with encoder (42, 28, 7) , lag 1\n",
            "Model with encoder (42, 28, 7) , lag 2\n",
            "Model with encoder (84, 42, 7) , lag 0\n",
            "Model with encoder (84, 42, 7) , lag 1\n",
            "Model with encoder (84, 42, 7) , lag 2\n"
          ]
        }
      ]
    },
    {
      "cell_type": "code",
      "source": [
        "deep_dyn_fact_mdl = DDFM(df_train_idx, structure_encoder=(84, 42, 7), lags_input=2, factor_oder=1,\n",
        "                             use_bias=False, link='relu', max_iter=100)\n",
        "deep_dyn_fact_mdl.fit()\n"
      ],
      "metadata": {
        "colab": {
          "base_uri": "https://localhost:8080/"
        },
        "id": "4iALoHsmKkM_",
        "outputId": "c5c022b6-1579-433d-b976-c9c1e2578437"
      },
      "execution_count": 27,
      "outputs": [
        {
          "output_type": "stream",
          "name": "stdout",
          "text": [
            "@Info - Note: Sorting data.\n",
            "18/18 [==============================] - 0s 3ms/step\n",
            "@Info: Convergence achieved in 7 iterations - new loss: 0.5775821049330419 - delta: 0.00038850626358028303 < 0.0005\n"
          ]
        }
      ]
    },
    {
      "cell_type": "code",
      "source": [
        "ddfm=deep_dyn_fact_mdl"
      ],
      "metadata": {
        "id": "JSRRk8Q7gw4P"
      },
      "execution_count": 28,
      "outputs": []
    },
    {
      "cell_type": "code",
      "source": [
        "#dir(deep_dyn_fact_mdl)"
      ],
      "metadata": {
        "id": "j-4byV5dlZ7K"
      },
      "execution_count": 29,
      "outputs": []
    },
    {
      "cell_type": "code",
      "source": [
        "type(ddfm.factors_filtered)"
      ],
      "metadata": {
        "colab": {
          "base_uri": "https://localhost:8080/"
        },
        "id": "lUOIZkVWlhjU",
        "outputId": "4a4a04cd-f984-4a81-c365-181e1ee87b61"
      },
      "execution_count": 30,
      "outputs": [
        {
          "output_type": "execute_result",
          "data": {
            "text/plain": [
              "numpy.ndarray"
            ]
          },
          "metadata": {},
          "execution_count": 30
        }
      ]
    },
    {
      "cell_type": "markdown",
      "source": [
        "### factores filtrados"
      ],
      "metadata": {
        "id": "ownemPmS75og"
      }
    },
    {
      "cell_type": "code",
      "source": [
        "ff=ddfm.factors_filtered\n",
        "ff.shape"
      ],
      "metadata": {
        "colab": {
          "base_uri": "https://localhost:8080/"
        },
        "id": "TjdS7Pws2mDd",
        "outputId": "8e8ac357-c79d-4bdc-8e4a-5bec00faff34"
      },
      "execution_count": 32,
      "outputs": [
        {
          "output_type": "execute_result",
          "data": {
            "text/plain": [
              "(577, 7)"
            ]
          },
          "metadata": {},
          "execution_count": 32
        }
      ]
    },
    {
      "cell_type": "code",
      "source": [
        "f_hat_ddfm_idx = pd.DataFrame(ff, columns=[\"f1\", \"f2\", \"f3\", \"f4\", \"f5\", \"f6\", \"f7\"])"
      ],
      "metadata": {
        "id": "wkrZBYdr3rQN"
      },
      "execution_count": 33,
      "outputs": []
    },
    {
      "cell_type": "code",
      "source": [
        "f_hat_ddfm_idx.head()"
      ],
      "metadata": {
        "colab": {
          "base_uri": "https://localhost:8080/",
          "height": 206
        },
        "id": "JKcP-ci6j1nx",
        "outputId": "f469c481-b604-4fdb-e113-2763727aecea"
      },
      "execution_count": 34,
      "outputs": [
        {
          "output_type": "execute_result",
          "data": {
            "text/plain": [
              "         f1        f2        f3        f4         f5        f6        f7\n",
              "0 -1.626767 -0.270785  0.537013  0.256650   2.032055  1.324050 -0.814786\n",
              "1 -4.513472 -2.333861 -3.987064 -4.464952  -6.411350 -3.028942 -0.006983\n",
              "2 -4.743648 -1.274925 -3.157191 -4.112005  -4.952827 -3.202081  0.419193\n",
              "3 -9.797295 -8.226314 -7.982015 -8.989313 -10.403632 -7.956421  0.164267\n",
              "4 -1.451818  0.502306 -0.561069 -0.760574  -0.395649 -2.341089  0.175911"
            ],
            "text/html": [
              "\n",
              "  <div id=\"df-4d5d8ecb-ffca-420f-9240-0839f8a502c7\" class=\"colab-df-container\">\n",
              "    <div>\n",
              "<style scoped>\n",
              "    .dataframe tbody tr th:only-of-type {\n",
              "        vertical-align: middle;\n",
              "    }\n",
              "\n",
              "    .dataframe tbody tr th {\n",
              "        vertical-align: top;\n",
              "    }\n",
              "\n",
              "    .dataframe thead th {\n",
              "        text-align: right;\n",
              "    }\n",
              "</style>\n",
              "<table border=\"1\" class=\"dataframe\">\n",
              "  <thead>\n",
              "    <tr style=\"text-align: right;\">\n",
              "      <th></th>\n",
              "      <th>f1</th>\n",
              "      <th>f2</th>\n",
              "      <th>f3</th>\n",
              "      <th>f4</th>\n",
              "      <th>f5</th>\n",
              "      <th>f6</th>\n",
              "      <th>f7</th>\n",
              "    </tr>\n",
              "  </thead>\n",
              "  <tbody>\n",
              "    <tr>\n",
              "      <th>0</th>\n",
              "      <td>-1.626767</td>\n",
              "      <td>-0.270785</td>\n",
              "      <td>0.537013</td>\n",
              "      <td>0.256650</td>\n",
              "      <td>2.032055</td>\n",
              "      <td>1.324050</td>\n",
              "      <td>-0.814786</td>\n",
              "    </tr>\n",
              "    <tr>\n",
              "      <th>1</th>\n",
              "      <td>-4.513472</td>\n",
              "      <td>-2.333861</td>\n",
              "      <td>-3.987064</td>\n",
              "      <td>-4.464952</td>\n",
              "      <td>-6.411350</td>\n",
              "      <td>-3.028942</td>\n",
              "      <td>-0.006983</td>\n",
              "    </tr>\n",
              "    <tr>\n",
              "      <th>2</th>\n",
              "      <td>-4.743648</td>\n",
              "      <td>-1.274925</td>\n",
              "      <td>-3.157191</td>\n",
              "      <td>-4.112005</td>\n",
              "      <td>-4.952827</td>\n",
              "      <td>-3.202081</td>\n",
              "      <td>0.419193</td>\n",
              "    </tr>\n",
              "    <tr>\n",
              "      <th>3</th>\n",
              "      <td>-9.797295</td>\n",
              "      <td>-8.226314</td>\n",
              "      <td>-7.982015</td>\n",
              "      <td>-8.989313</td>\n",
              "      <td>-10.403632</td>\n",
              "      <td>-7.956421</td>\n",
              "      <td>0.164267</td>\n",
              "    </tr>\n",
              "    <tr>\n",
              "      <th>4</th>\n",
              "      <td>-1.451818</td>\n",
              "      <td>0.502306</td>\n",
              "      <td>-0.561069</td>\n",
              "      <td>-0.760574</td>\n",
              "      <td>-0.395649</td>\n",
              "      <td>-2.341089</td>\n",
              "      <td>0.175911</td>\n",
              "    </tr>\n",
              "  </tbody>\n",
              "</table>\n",
              "</div>\n",
              "    <div class=\"colab-df-buttons\">\n",
              "\n",
              "  <div class=\"colab-df-container\">\n",
              "    <button class=\"colab-df-convert\" onclick=\"convertToInteractive('df-4d5d8ecb-ffca-420f-9240-0839f8a502c7')\"\n",
              "            title=\"Convert this dataframe to an interactive table.\"\n",
              "            style=\"display:none;\">\n",
              "\n",
              "  <svg xmlns=\"http://www.w3.org/2000/svg\" height=\"24px\" viewBox=\"0 -960 960 960\">\n",
              "    <path d=\"M120-120v-720h720v720H120Zm60-500h600v-160H180v160Zm220 220h160v-160H400v160Zm0 220h160v-160H400v160ZM180-400h160v-160H180v160Zm440 0h160v-160H620v160ZM180-180h160v-160H180v160Zm440 0h160v-160H620v160Z\"/>\n",
              "  </svg>\n",
              "    </button>\n",
              "\n",
              "  <style>\n",
              "    .colab-df-container {\n",
              "      display:flex;\n",
              "      gap: 12px;\n",
              "    }\n",
              "\n",
              "    .colab-df-convert {\n",
              "      background-color: #E8F0FE;\n",
              "      border: none;\n",
              "      border-radius: 50%;\n",
              "      cursor: pointer;\n",
              "      display: none;\n",
              "      fill: #1967D2;\n",
              "      height: 32px;\n",
              "      padding: 0 0 0 0;\n",
              "      width: 32px;\n",
              "    }\n",
              "\n",
              "    .colab-df-convert:hover {\n",
              "      background-color: #E2EBFA;\n",
              "      box-shadow: 0px 1px 2px rgba(60, 64, 67, 0.3), 0px 1px 3px 1px rgba(60, 64, 67, 0.15);\n",
              "      fill: #174EA6;\n",
              "    }\n",
              "\n",
              "    .colab-df-buttons div {\n",
              "      margin-bottom: 4px;\n",
              "    }\n",
              "\n",
              "    [theme=dark] .colab-df-convert {\n",
              "      background-color: #3B4455;\n",
              "      fill: #D2E3FC;\n",
              "    }\n",
              "\n",
              "    [theme=dark] .colab-df-convert:hover {\n",
              "      background-color: #434B5C;\n",
              "      box-shadow: 0px 1px 3px 1px rgba(0, 0, 0, 0.15);\n",
              "      filter: drop-shadow(0px 1px 2px rgba(0, 0, 0, 0.3));\n",
              "      fill: #FFFFFF;\n",
              "    }\n",
              "  </style>\n",
              "\n",
              "    <script>\n",
              "      const buttonEl =\n",
              "        document.querySelector('#df-4d5d8ecb-ffca-420f-9240-0839f8a502c7 button.colab-df-convert');\n",
              "      buttonEl.style.display =\n",
              "        google.colab.kernel.accessAllowed ? 'block' : 'none';\n",
              "\n",
              "      async function convertToInteractive(key) {\n",
              "        const element = document.querySelector('#df-4d5d8ecb-ffca-420f-9240-0839f8a502c7');\n",
              "        const dataTable =\n",
              "          await google.colab.kernel.invokeFunction('convertToInteractive',\n",
              "                                                    [key], {});\n",
              "        if (!dataTable) return;\n",
              "\n",
              "        const docLinkHtml = 'Like what you see? Visit the ' +\n",
              "          '<a target=\"_blank\" href=https://colab.research.google.com/notebooks/data_table.ipynb>data table notebook</a>'\n",
              "          + ' to learn more about interactive tables.';\n",
              "        element.innerHTML = '';\n",
              "        dataTable['output_type'] = 'display_data';\n",
              "        await google.colab.output.renderOutput(dataTable, element);\n",
              "        const docLink = document.createElement('div');\n",
              "        docLink.innerHTML = docLinkHtml;\n",
              "        element.appendChild(docLink);\n",
              "      }\n",
              "    </script>\n",
              "  </div>\n",
              "\n",
              "\n",
              "<div id=\"df-8fab0fec-dbe9-4517-b3f2-36a23af216c0\">\n",
              "  <button class=\"colab-df-quickchart\" onclick=\"quickchart('df-8fab0fec-dbe9-4517-b3f2-36a23af216c0')\"\n",
              "            title=\"Suggest charts\"\n",
              "            style=\"display:none;\">\n",
              "\n",
              "<svg xmlns=\"http://www.w3.org/2000/svg\" height=\"24px\"viewBox=\"0 0 24 24\"\n",
              "     width=\"24px\">\n",
              "    <g>\n",
              "        <path d=\"M19 3H5c-1.1 0-2 .9-2 2v14c0 1.1.9 2 2 2h14c1.1 0 2-.9 2-2V5c0-1.1-.9-2-2-2zM9 17H7v-7h2v7zm4 0h-2V7h2v10zm4 0h-2v-4h2v4z\"/>\n",
              "    </g>\n",
              "</svg>\n",
              "  </button>\n",
              "\n",
              "<style>\n",
              "  .colab-df-quickchart {\n",
              "      --bg-color: #E8F0FE;\n",
              "      --fill-color: #1967D2;\n",
              "      --hover-bg-color: #E2EBFA;\n",
              "      --hover-fill-color: #174EA6;\n",
              "      --disabled-fill-color: #AAA;\n",
              "      --disabled-bg-color: #DDD;\n",
              "  }\n",
              "\n",
              "  [theme=dark] .colab-df-quickchart {\n",
              "      --bg-color: #3B4455;\n",
              "      --fill-color: #D2E3FC;\n",
              "      --hover-bg-color: #434B5C;\n",
              "      --hover-fill-color: #FFFFFF;\n",
              "      --disabled-bg-color: #3B4455;\n",
              "      --disabled-fill-color: #666;\n",
              "  }\n",
              "\n",
              "  .colab-df-quickchart {\n",
              "    background-color: var(--bg-color);\n",
              "    border: none;\n",
              "    border-radius: 50%;\n",
              "    cursor: pointer;\n",
              "    display: none;\n",
              "    fill: var(--fill-color);\n",
              "    height: 32px;\n",
              "    padding: 0;\n",
              "    width: 32px;\n",
              "  }\n",
              "\n",
              "  .colab-df-quickchart:hover {\n",
              "    background-color: var(--hover-bg-color);\n",
              "    box-shadow: 0 1px 2px rgba(60, 64, 67, 0.3), 0 1px 3px 1px rgba(60, 64, 67, 0.15);\n",
              "    fill: var(--button-hover-fill-color);\n",
              "  }\n",
              "\n",
              "  .colab-df-quickchart-complete:disabled,\n",
              "  .colab-df-quickchart-complete:disabled:hover {\n",
              "    background-color: var(--disabled-bg-color);\n",
              "    fill: var(--disabled-fill-color);\n",
              "    box-shadow: none;\n",
              "  }\n",
              "\n",
              "  .colab-df-spinner {\n",
              "    border: 2px solid var(--fill-color);\n",
              "    border-color: transparent;\n",
              "    border-bottom-color: var(--fill-color);\n",
              "    animation:\n",
              "      spin 1s steps(1) infinite;\n",
              "  }\n",
              "\n",
              "  @keyframes spin {\n",
              "    0% {\n",
              "      border-color: transparent;\n",
              "      border-bottom-color: var(--fill-color);\n",
              "      border-left-color: var(--fill-color);\n",
              "    }\n",
              "    20% {\n",
              "      border-color: transparent;\n",
              "      border-left-color: var(--fill-color);\n",
              "      border-top-color: var(--fill-color);\n",
              "    }\n",
              "    30% {\n",
              "      border-color: transparent;\n",
              "      border-left-color: var(--fill-color);\n",
              "      border-top-color: var(--fill-color);\n",
              "      border-right-color: var(--fill-color);\n",
              "    }\n",
              "    40% {\n",
              "      border-color: transparent;\n",
              "      border-right-color: var(--fill-color);\n",
              "      border-top-color: var(--fill-color);\n",
              "    }\n",
              "    60% {\n",
              "      border-color: transparent;\n",
              "      border-right-color: var(--fill-color);\n",
              "    }\n",
              "    80% {\n",
              "      border-color: transparent;\n",
              "      border-right-color: var(--fill-color);\n",
              "      border-bottom-color: var(--fill-color);\n",
              "    }\n",
              "    90% {\n",
              "      border-color: transparent;\n",
              "      border-bottom-color: var(--fill-color);\n",
              "    }\n",
              "  }\n",
              "</style>\n",
              "\n",
              "  <script>\n",
              "    async function quickchart(key) {\n",
              "      const quickchartButtonEl =\n",
              "        document.querySelector('#' + key + ' button');\n",
              "      quickchartButtonEl.disabled = true;  // To prevent multiple clicks.\n",
              "      quickchartButtonEl.classList.add('colab-df-spinner');\n",
              "      try {\n",
              "        const charts = await google.colab.kernel.invokeFunction(\n",
              "            'suggestCharts', [key], {});\n",
              "      } catch (error) {\n",
              "        console.error('Error during call to suggestCharts:', error);\n",
              "      }\n",
              "      quickchartButtonEl.classList.remove('colab-df-spinner');\n",
              "      quickchartButtonEl.classList.add('colab-df-quickchart-complete');\n",
              "    }\n",
              "    (() => {\n",
              "      let quickchartButtonEl =\n",
              "        document.querySelector('#df-8fab0fec-dbe9-4517-b3f2-36a23af216c0 button');\n",
              "      quickchartButtonEl.style.display =\n",
              "        google.colab.kernel.accessAllowed ? 'block' : 'none';\n",
              "    })();\n",
              "  </script>\n",
              "</div>\n",
              "    </div>\n",
              "  </div>\n"
            ]
          },
          "metadata": {},
          "execution_count": 34
        }
      ]
    },
    {
      "cell_type": "code",
      "source": [
        "f_hat_ddfm_idx.index = df_train_idx.index\n",
        "f_hat_ddfm=f_hat_ddfm_idx.reset_index()"
      ],
      "metadata": {
        "id": "Z1bw1Epy6Pje"
      },
      "execution_count": 36,
      "outputs": []
    },
    {
      "cell_type": "code",
      "source": [
        "f_hat_ddfm.to_csv('/content/drive/MyDrive/D2FM/f_hat_ddfm.csv', index=False)"
      ],
      "metadata": {
        "id": "5NLMaDQR4Wqj"
      },
      "execution_count": 40,
      "outputs": []
    }
  ],
  "metadata": {
    "colab": {
      "provenance": []
    },
    "kernelspec": {
      "display_name": "Python 3",
      "name": "python3"
    },
    "language_info": {
      "name": "python"
    }
  },
  "nbformat": 4,
  "nbformat_minor": 0
}