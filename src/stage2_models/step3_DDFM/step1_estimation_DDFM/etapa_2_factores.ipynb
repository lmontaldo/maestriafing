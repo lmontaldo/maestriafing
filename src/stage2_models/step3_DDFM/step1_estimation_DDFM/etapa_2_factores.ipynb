{
  "cells": [
    {
      "cell_type": "markdown",
      "source": [],
      "metadata": {
        "id": "Cd4nMBK48QS-"
      }
    },
    {
      "cell_type": "code",
      "source": [
        "import os,sys,inspect\n",
        "currentdir = os.path.dirname(os.path.abspath(inspect.getfile(inspect.currentframe())))\n",
        "parentdir = os.path.dirname(currentdir)\n",
        "parentdir = os.path.dirname(parentdir)\n",
        "sys.path.insert(0,parentdir)"
      ],
      "metadata": {
        "id": "IUTkX92sKF5N"
      },
      "execution_count": 1,
      "outputs": []
    },
    {
      "cell_type": "code",
      "source": [
        "from google.colab import drive\n",
        "drive.mount('/content/drive')"
      ],
      "metadata": {
        "colab": {
          "base_uri": "https://localhost:8080/"
        },
        "id": "Xll83j-0QPuY",
        "outputId": "f8d9d85e-07a4-4b52-c154-7501ba5c980b"
      },
      "execution_count": 2,
      "outputs": [
        {
          "output_type": "stream",
          "name": "stdout",
          "text": [
            "Mounted at /content/drive\n"
          ]
        }
      ]
    },
    {
      "cell_type": "code",
      "source": [
        "import sys\n",
        "sys.path.append('/content/drive/My Drive/D2FM')\n",
        "module_path = '/content/drive/My Drive/D2FM'\n",
        "if module_path not in sys.path:\n",
        "    sys.path.append(module_path)"
      ],
      "metadata": {
        "id": "OHQp36zkQZ_o"
      },
      "execution_count": 3,
      "outputs": []
    },
    {
      "cell_type": "code",
      "source": [
        "!pip install pykalman"
      ],
      "metadata": {
        "colab": {
          "base_uri": "https://localhost:8080/"
        },
        "id": "OS3rYn20WLyj",
        "outputId": "4bd3097f-e029-4a40-d2ea-da546c7e1796"
      },
      "execution_count": 4,
      "outputs": [
        {
          "output_type": "stream",
          "name": "stdout",
          "text": [
            "Collecting pykalman\n",
            "  Downloading pykalman-0.9.5.tar.gz (228 kB)\n",
            "\u001b[?25l     \u001b[90m━━━━━━━━━━━━━━━━━━━━━━━━━━━━━━━━━━━━━━━━\u001b[0m \u001b[32m0.0/228.9 kB\u001b[0m \u001b[31m?\u001b[0m eta \u001b[36m-:--:--\u001b[0m\r\u001b[2K     \u001b[91m━━━━━━━━━━━━━━━━━━━━━━━━━\u001b[0m\u001b[90m╺\u001b[0m\u001b[90m━━━━━━━━━━━━━━\u001b[0m \u001b[32m143.4/228.9 kB\u001b[0m \u001b[31m4.1 MB/s\u001b[0m eta \u001b[36m0:00:01\u001b[0m\r\u001b[2K     \u001b[90m━━━━━━━━━━━━━━━━━━━━━━━━━━━━━━━━━━━━━━━━\u001b[0m \u001b[32m228.9/228.9 kB\u001b[0m \u001b[31m4.2 MB/s\u001b[0m eta \u001b[36m0:00:00\u001b[0m\n",
            "\u001b[?25h  Preparing metadata (setup.py) ... \u001b[?25l\u001b[?25hdone\n",
            "Building wheels for collected packages: pykalman\n",
            "  Building wheel for pykalman (setup.py) ... \u001b[?25l\u001b[?25hdone\n",
            "  Created wheel for pykalman: filename=pykalman-0.9.5-py3-none-any.whl size=48442 sha256=511b82d0c12ddf725a9e6d486704f05f7495d8401894b954c40eaa7924952627\n",
            "  Stored in directory: /root/.cache/pip/wheels/76/33/ef/5f332226e13a5089c6dd4b01cc2bcb59491d18f955fa2d3807\n",
            "Successfully built pykalman\n",
            "Installing collected packages: pykalman\n",
            "Successfully installed pykalman-0.9.5\n"
          ]
        }
      ]
    },
    {
      "cell_type": "code",
      "source": [
        "from models.ddfm import *"
      ],
      "metadata": {
        "id": "sfZM6nNNVDp0"
      },
      "execution_count": 5,
      "outputs": []
    },
    {
      "cell_type": "code",
      "execution_count": 6,
      "metadata": {
        "id": "--U2KPzqary4"
      },
      "outputs": [],
      "source": [
        "import numpy as np\n",
        "import pandas as pd\n",
        "import tensorflow as tf\n",
        "from typing import Tuple\n",
        "from tensorflow import keras\n",
        "from tensorflow.keras import layers\n",
        "from statsmodels.tsa.statespace.dynamic_factor_mq import DynamicFactorMQ as DFM\n",
        "from sklearn.model_selection import ParameterGrid\n",
        "from typing import Tuple\n",
        "import numpy as np\n",
        "from pykalman import KalmanFilter"
      ]
    },
    {
      "cell_type": "code",
      "execution_count": 7,
      "metadata": {
        "id": "0cgoKGqbd-ea"
      },
      "outputs": [],
      "source": [
        "#from google.colab import files\n",
        "#uploaded = files.upload()"
      ]
    },
    {
      "cell_type": "code",
      "execution_count": 8,
      "metadata": {
        "id": "Jk9uMGiReqjf"
      },
      "outputs": [],
      "source": [
        "import warnings\n",
        "warnings.filterwarnings(\"ignore\")\n",
        "import random\n",
        "from sklearn.metrics import mean_squared_error as mse\n",
        "from typing import Tuple\n",
        "from sklearn.preprocessing import StandardScaler"
      ]
    },
    {
      "cell_type": "code",
      "execution_count": 9,
      "metadata": {
        "id": "s5TS6VMnrDrw"
      },
      "outputs": [],
      "source": [
        "df_train = pd.read_csv('/content/drive/MyDrive/D2FM/scaled_train.csv')\n",
        "df_test=pd.read_csv('/content/drive/MyDrive/D2FM/scaled_test.csv')\n"
      ]
    },
    {
      "cell_type": "code",
      "source": [
        "df_train.columns"
      ],
      "metadata": {
        "colab": {
          "base_uri": "https://localhost:8080/"
        },
        "id": "hEM3tUkzgMVo",
        "outputId": "25522e4d-48f0-4164-a11a-ef51aea350bd"
      },
      "execution_count": 10,
      "outputs": [
        {
          "output_type": "execute_result",
          "data": {
            "text/plain": [
              "Index(['Index', 'RPI', 'W875RX1', 'DPCERA3M086SBEA', 'INDPRO', 'IPFPNSS',\n",
              "       'IPFINAL', 'IPCONGD', 'IPDCONGD', 'IPNCONGD',\n",
              "       ...\n",
              "       'AAAFFM', 'BAAFFM', 'EXSZUSx', 'EXJPUSx', 'EXUSUKx', 'EXCAUSx',\n",
              "       'DTCOLNVHFNM', 'DTCTHFNM', 'INVEST', 'FEDFUNDS'],\n",
              "      dtype='object', length=119)"
            ]
          },
          "metadata": {},
          "execution_count": 10
        }
      ]
    },
    {
      "cell_type": "code",
      "source": [
        "df_train_idx=df_train.set_index(\"Index\")\n",
        "df_test_idx=df_test.set_index(\"Index\")"
      ],
      "metadata": {
        "id": "0-Kz_xZDgJ5z"
      },
      "execution_count": 11,
      "outputs": []
    },
    {
      "cell_type": "markdown",
      "source": [
        "# Para 6 factores:"
      ],
      "metadata": {
        "id": "ZSNwENQ1XKii"
      }
    },
    {
      "cell_type": "code",
      "source": [
        "ddfm6 = DDFM(df_train_idx, structure_encoder=(288, 144, 96, 6), lags_input=1, factor_oder=2,\n",
        "                             use_bias=True, link='tanh', max_iter=1000)\n",
        "ddfm6.fit()"
      ],
      "metadata": {
        "colab": {
          "base_uri": "https://localhost:8080/"
        },
        "id": "kBWbuZwx_6MV",
        "outputId": "95dfb822-4d76-4e76-e467-01ab9ec07e67"
      },
      "execution_count": 13,
      "outputs": [
        {
          "output_type": "stream",
          "name": "stdout",
          "text": [
            "@Info - Note: Sorting data.\n",
            "18/18 [==============================] - 0s 3ms/step\n",
            "@Info: Convergence achieved in 5 iterations - new loss: 0.5898081148109916 - delta: 0.00023514336693640313 < 0.0005\n"
          ]
        }
      ]
    },
    {
      "cell_type": "code",
      "source": [
        "last_state, last_state_var_cov_matrix = ddfm6.get_last_state()"
      ],
      "metadata": {
        "id": "g_jciHskfia-"
      },
      "execution_count": 12,
      "outputs": []
    },
    {
      "cell_type": "code",
      "source": [
        "last_state.shape"
      ],
      "metadata": {
        "colab": {
          "base_uri": "https://localhost:8080/"
        },
        "id": "YCMFDVPnfk2H",
        "outputId": "df7e969c-031e-4c8a-cdf6-4475a4de43cd"
      },
      "execution_count": 13,
      "outputs": [
        {
          "output_type": "execute_result",
          "data": {
            "text/plain": [
              "(130,)"
            ]
          },
          "metadata": {},
          "execution_count": 13
        }
      ]
    },
    {
      "cell_type": "code",
      "source": [
        "steps_ahead = df_test_idx.shape[0]  # for example, predict 5 steps ahead\n",
        "predictions6 = ddfm6.predict(last_state, last_state_var_cov_matrix, steps_ahead)\n",
        "#predictions7['states'].shape\n",
        "y_t_k_6=ddfm6.predict_observations(last_state, last_state_var_cov_matrix , steps_ahead)\n",
        "#df_test_first_12_rows = df_test_idx.iloc[:12, :]\n",
        "test_array = df_test_idx.to_numpy()\n",
        "mse_row=np.mean((test_array - y_t_k_6)**2, axis=1)\n",
        "mse_145=np.mean(mse_row)\n",
        "mae_145 = np.mean(np.abs(test_array - y_t_k_6))\n",
        "rmsfe_145 = np.sqrt(np.mean((test_array - y_t_k_6) ** 2))\n",
        "print(\"Mean Squared Error:\", mse_145)\n",
        "print(\"Mean Absolute Error:\", mae_145)\n",
        "print(\"Root Mean Squared Forecast Error:\", rmsfe_145)"
      ],
      "metadata": {
        "colab": {
          "base_uri": "https://localhost:8080/"
        },
        "id": "4TJefrAGCMhk",
        "outputId": "7e487c4f-db8b-4428-8d90-2ab7fe68b9e4"
      },
      "execution_count": 15,
      "outputs": [
        {
          "output_type": "stream",
          "name": "stdout",
          "text": [
            "Mean Squared Error: 0.9581370593879495\n",
            "Mean Absolute Error: 0.6841562075959188\n",
            "Root Mean Squared Forecast Error: 0.9788447575524678\n"
          ]
        }
      ]
    },
    {
      "cell_type": "code",
      "source": [
        "#n = ddfm.state_space.F.shape[0]\n",
        "#x_hat_start = np.zeros((1, n))\n",
        "#sigma_x_hat_start = np.eye(ddfm.state_space.F.shape[0])\n",
        "#x_hat_start.shape"
      ],
      "metadata": {
        "id": "7KYikWg204_6"
      },
      "execution_count": null,
      "outputs": []
    },
    {
      "cell_type": "code",
      "source": [
        "#dir(ddfm)"
      ],
      "metadata": {
        "id": "RNsajVuqvPNg"
      },
      "execution_count": null,
      "outputs": []
    },
    {
      "cell_type": "markdown",
      "source": [
        "### factores filtrados"
      ],
      "metadata": {
        "id": "ownemPmS75og"
      }
    },
    {
      "cell_type": "code",
      "source": [
        "ff6=ddfm6.factors_filtered\n",
        "ff6.shape"
      ],
      "metadata": {
        "colab": {
          "base_uri": "https://localhost:8080/"
        },
        "id": "TjdS7Pws2mDd",
        "outputId": "c0d4268b-06bb-4d85-9e48-7f8224f389e6"
      },
      "execution_count": 16,
      "outputs": [
        {
          "output_type": "execute_result",
          "data": {
            "text/plain": [
              "(577, 6)"
            ]
          },
          "metadata": {},
          "execution_count": 16
        }
      ]
    },
    {
      "cell_type": "code",
      "source": [
        "f_hat_ddfm_idx6 = pd.DataFrame(ff6, columns=[\"f1\", \"f2\", \"f3\", \"f4\", \"f5\", \"f6\"])"
      ],
      "metadata": {
        "id": "wkrZBYdr3rQN"
      },
      "execution_count": 17,
      "outputs": []
    },
    {
      "cell_type": "code",
      "source": [
        "f_hat_ddfm_idx6.head()"
      ],
      "metadata": {
        "colab": {
          "base_uri": "https://localhost:8080/",
          "height": 206
        },
        "id": "JKcP-ci6j1nx",
        "outputId": "0c1aab88-6d19-4e5e-f706-0577d4336db7"
      },
      "execution_count": 18,
      "outputs": [
        {
          "output_type": "execute_result",
          "data": {
            "text/plain": [
              "         f1        f2        f3        f4        f5        f6\n",
              "0 -0.410142  0.112761  0.302629  0.558938  0.401059  0.000000\n",
              "1  0.447758  0.163437  0.118480  0.040392 -0.823330 -0.811879\n",
              "2 -0.313457  0.372762 -0.210943 -0.101538 -0.723166 -0.269557\n",
              "3  0.110398 -0.100178  0.158665  0.015998 -0.588298 -0.076621\n",
              "4 -0.261000  0.496313 -0.163399 -0.049169  0.119703 -0.017937"
            ],
            "text/html": [
              "\n",
              "  <div id=\"df-9be0e2a3-7dc7-4c0d-8f00-be53f15b70c2\" class=\"colab-df-container\">\n",
              "    <div>\n",
              "<style scoped>\n",
              "    .dataframe tbody tr th:only-of-type {\n",
              "        vertical-align: middle;\n",
              "    }\n",
              "\n",
              "    .dataframe tbody tr th {\n",
              "        vertical-align: top;\n",
              "    }\n",
              "\n",
              "    .dataframe thead th {\n",
              "        text-align: right;\n",
              "    }\n",
              "</style>\n",
              "<table border=\"1\" class=\"dataframe\">\n",
              "  <thead>\n",
              "    <tr style=\"text-align: right;\">\n",
              "      <th></th>\n",
              "      <th>f1</th>\n",
              "      <th>f2</th>\n",
              "      <th>f3</th>\n",
              "      <th>f4</th>\n",
              "      <th>f5</th>\n",
              "      <th>f6</th>\n",
              "    </tr>\n",
              "  </thead>\n",
              "  <tbody>\n",
              "    <tr>\n",
              "      <th>0</th>\n",
              "      <td>-0.410142</td>\n",
              "      <td>0.112761</td>\n",
              "      <td>0.302629</td>\n",
              "      <td>0.558938</td>\n",
              "      <td>0.401059</td>\n",
              "      <td>0.000000</td>\n",
              "    </tr>\n",
              "    <tr>\n",
              "      <th>1</th>\n",
              "      <td>0.447758</td>\n",
              "      <td>0.163437</td>\n",
              "      <td>0.118480</td>\n",
              "      <td>0.040392</td>\n",
              "      <td>-0.823330</td>\n",
              "      <td>-0.811879</td>\n",
              "    </tr>\n",
              "    <tr>\n",
              "      <th>2</th>\n",
              "      <td>-0.313457</td>\n",
              "      <td>0.372762</td>\n",
              "      <td>-0.210943</td>\n",
              "      <td>-0.101538</td>\n",
              "      <td>-0.723166</td>\n",
              "      <td>-0.269557</td>\n",
              "    </tr>\n",
              "    <tr>\n",
              "      <th>3</th>\n",
              "      <td>0.110398</td>\n",
              "      <td>-0.100178</td>\n",
              "      <td>0.158665</td>\n",
              "      <td>0.015998</td>\n",
              "      <td>-0.588298</td>\n",
              "      <td>-0.076621</td>\n",
              "    </tr>\n",
              "    <tr>\n",
              "      <th>4</th>\n",
              "      <td>-0.261000</td>\n",
              "      <td>0.496313</td>\n",
              "      <td>-0.163399</td>\n",
              "      <td>-0.049169</td>\n",
              "      <td>0.119703</td>\n",
              "      <td>-0.017937</td>\n",
              "    </tr>\n",
              "  </tbody>\n",
              "</table>\n",
              "</div>\n",
              "    <div class=\"colab-df-buttons\">\n",
              "\n",
              "  <div class=\"colab-df-container\">\n",
              "    <button class=\"colab-df-convert\" onclick=\"convertToInteractive('df-9be0e2a3-7dc7-4c0d-8f00-be53f15b70c2')\"\n",
              "            title=\"Convert this dataframe to an interactive table.\"\n",
              "            style=\"display:none;\">\n",
              "\n",
              "  <svg xmlns=\"http://www.w3.org/2000/svg\" height=\"24px\" viewBox=\"0 -960 960 960\">\n",
              "    <path d=\"M120-120v-720h720v720H120Zm60-500h600v-160H180v160Zm220 220h160v-160H400v160Zm0 220h160v-160H400v160ZM180-400h160v-160H180v160Zm440 0h160v-160H620v160ZM180-180h160v-160H180v160Zm440 0h160v-160H620v160Z\"/>\n",
              "  </svg>\n",
              "    </button>\n",
              "\n",
              "  <style>\n",
              "    .colab-df-container {\n",
              "      display:flex;\n",
              "      gap: 12px;\n",
              "    }\n",
              "\n",
              "    .colab-df-convert {\n",
              "      background-color: #E8F0FE;\n",
              "      border: none;\n",
              "      border-radius: 50%;\n",
              "      cursor: pointer;\n",
              "      display: none;\n",
              "      fill: #1967D2;\n",
              "      height: 32px;\n",
              "      padding: 0 0 0 0;\n",
              "      width: 32px;\n",
              "    }\n",
              "\n",
              "    .colab-df-convert:hover {\n",
              "      background-color: #E2EBFA;\n",
              "      box-shadow: 0px 1px 2px rgba(60, 64, 67, 0.3), 0px 1px 3px 1px rgba(60, 64, 67, 0.15);\n",
              "      fill: #174EA6;\n",
              "    }\n",
              "\n",
              "    .colab-df-buttons div {\n",
              "      margin-bottom: 4px;\n",
              "    }\n",
              "\n",
              "    [theme=dark] .colab-df-convert {\n",
              "      background-color: #3B4455;\n",
              "      fill: #D2E3FC;\n",
              "    }\n",
              "\n",
              "    [theme=dark] .colab-df-convert:hover {\n",
              "      background-color: #434B5C;\n",
              "      box-shadow: 0px 1px 3px 1px rgba(0, 0, 0, 0.15);\n",
              "      filter: drop-shadow(0px 1px 2px rgba(0, 0, 0, 0.3));\n",
              "      fill: #FFFFFF;\n",
              "    }\n",
              "  </style>\n",
              "\n",
              "    <script>\n",
              "      const buttonEl =\n",
              "        document.querySelector('#df-9be0e2a3-7dc7-4c0d-8f00-be53f15b70c2 button.colab-df-convert');\n",
              "      buttonEl.style.display =\n",
              "        google.colab.kernel.accessAllowed ? 'block' : 'none';\n",
              "\n",
              "      async function convertToInteractive(key) {\n",
              "        const element = document.querySelector('#df-9be0e2a3-7dc7-4c0d-8f00-be53f15b70c2');\n",
              "        const dataTable =\n",
              "          await google.colab.kernel.invokeFunction('convertToInteractive',\n",
              "                                                    [key], {});\n",
              "        if (!dataTable) return;\n",
              "\n",
              "        const docLinkHtml = 'Like what you see? Visit the ' +\n",
              "          '<a target=\"_blank\" href=https://colab.research.google.com/notebooks/data_table.ipynb>data table notebook</a>'\n",
              "          + ' to learn more about interactive tables.';\n",
              "        element.innerHTML = '';\n",
              "        dataTable['output_type'] = 'display_data';\n",
              "        await google.colab.output.renderOutput(dataTable, element);\n",
              "        const docLink = document.createElement('div');\n",
              "        docLink.innerHTML = docLinkHtml;\n",
              "        element.appendChild(docLink);\n",
              "      }\n",
              "    </script>\n",
              "  </div>\n",
              "\n",
              "\n",
              "<div id=\"df-b5a7c72b-58be-4d6c-96a6-8caa7e34d203\">\n",
              "  <button class=\"colab-df-quickchart\" onclick=\"quickchart('df-b5a7c72b-58be-4d6c-96a6-8caa7e34d203')\"\n",
              "            title=\"Suggest charts\"\n",
              "            style=\"display:none;\">\n",
              "\n",
              "<svg xmlns=\"http://www.w3.org/2000/svg\" height=\"24px\"viewBox=\"0 0 24 24\"\n",
              "     width=\"24px\">\n",
              "    <g>\n",
              "        <path d=\"M19 3H5c-1.1 0-2 .9-2 2v14c0 1.1.9 2 2 2h14c1.1 0 2-.9 2-2V5c0-1.1-.9-2-2-2zM9 17H7v-7h2v7zm4 0h-2V7h2v10zm4 0h-2v-4h2v4z\"/>\n",
              "    </g>\n",
              "</svg>\n",
              "  </button>\n",
              "\n",
              "<style>\n",
              "  .colab-df-quickchart {\n",
              "      --bg-color: #E8F0FE;\n",
              "      --fill-color: #1967D2;\n",
              "      --hover-bg-color: #E2EBFA;\n",
              "      --hover-fill-color: #174EA6;\n",
              "      --disabled-fill-color: #AAA;\n",
              "      --disabled-bg-color: #DDD;\n",
              "  }\n",
              "\n",
              "  [theme=dark] .colab-df-quickchart {\n",
              "      --bg-color: #3B4455;\n",
              "      --fill-color: #D2E3FC;\n",
              "      --hover-bg-color: #434B5C;\n",
              "      --hover-fill-color: #FFFFFF;\n",
              "      --disabled-bg-color: #3B4455;\n",
              "      --disabled-fill-color: #666;\n",
              "  }\n",
              "\n",
              "  .colab-df-quickchart {\n",
              "    background-color: var(--bg-color);\n",
              "    border: none;\n",
              "    border-radius: 50%;\n",
              "    cursor: pointer;\n",
              "    display: none;\n",
              "    fill: var(--fill-color);\n",
              "    height: 32px;\n",
              "    padding: 0;\n",
              "    width: 32px;\n",
              "  }\n",
              "\n",
              "  .colab-df-quickchart:hover {\n",
              "    background-color: var(--hover-bg-color);\n",
              "    box-shadow: 0 1px 2px rgba(60, 64, 67, 0.3), 0 1px 3px 1px rgba(60, 64, 67, 0.15);\n",
              "    fill: var(--button-hover-fill-color);\n",
              "  }\n",
              "\n",
              "  .colab-df-quickchart-complete:disabled,\n",
              "  .colab-df-quickchart-complete:disabled:hover {\n",
              "    background-color: var(--disabled-bg-color);\n",
              "    fill: var(--disabled-fill-color);\n",
              "    box-shadow: none;\n",
              "  }\n",
              "\n",
              "  .colab-df-spinner {\n",
              "    border: 2px solid var(--fill-color);\n",
              "    border-color: transparent;\n",
              "    border-bottom-color: var(--fill-color);\n",
              "    animation:\n",
              "      spin 1s steps(1) infinite;\n",
              "  }\n",
              "\n",
              "  @keyframes spin {\n",
              "    0% {\n",
              "      border-color: transparent;\n",
              "      border-bottom-color: var(--fill-color);\n",
              "      border-left-color: var(--fill-color);\n",
              "    }\n",
              "    20% {\n",
              "      border-color: transparent;\n",
              "      border-left-color: var(--fill-color);\n",
              "      border-top-color: var(--fill-color);\n",
              "    }\n",
              "    30% {\n",
              "      border-color: transparent;\n",
              "      border-left-color: var(--fill-color);\n",
              "      border-top-color: var(--fill-color);\n",
              "      border-right-color: var(--fill-color);\n",
              "    }\n",
              "    40% {\n",
              "      border-color: transparent;\n",
              "      border-right-color: var(--fill-color);\n",
              "      border-top-color: var(--fill-color);\n",
              "    }\n",
              "    60% {\n",
              "      border-color: transparent;\n",
              "      border-right-color: var(--fill-color);\n",
              "    }\n",
              "    80% {\n",
              "      border-color: transparent;\n",
              "      border-right-color: var(--fill-color);\n",
              "      border-bottom-color: var(--fill-color);\n",
              "    }\n",
              "    90% {\n",
              "      border-color: transparent;\n",
              "      border-bottom-color: var(--fill-color);\n",
              "    }\n",
              "  }\n",
              "</style>\n",
              "\n",
              "  <script>\n",
              "    async function quickchart(key) {\n",
              "      const quickchartButtonEl =\n",
              "        document.querySelector('#' + key + ' button');\n",
              "      quickchartButtonEl.disabled = true;  // To prevent multiple clicks.\n",
              "      quickchartButtonEl.classList.add('colab-df-spinner');\n",
              "      try {\n",
              "        const charts = await google.colab.kernel.invokeFunction(\n",
              "            'suggestCharts', [key], {});\n",
              "      } catch (error) {\n",
              "        console.error('Error during call to suggestCharts:', error);\n",
              "      }\n",
              "      quickchartButtonEl.classList.remove('colab-df-spinner');\n",
              "      quickchartButtonEl.classList.add('colab-df-quickchart-complete');\n",
              "    }\n",
              "    (() => {\n",
              "      let quickchartButtonEl =\n",
              "        document.querySelector('#df-b5a7c72b-58be-4d6c-96a6-8caa7e34d203 button');\n",
              "      quickchartButtonEl.style.display =\n",
              "        google.colab.kernel.accessAllowed ? 'block' : 'none';\n",
              "    })();\n",
              "  </script>\n",
              "</div>\n",
              "\n",
              "    </div>\n",
              "  </div>\n"
            ],
            "application/vnd.google.colaboratory.intrinsic+json": {
              "type": "dataframe",
              "variable_name": "f_hat_ddfm_idx6",
              "summary": "{\n  \"name\": \"f_hat_ddfm_idx6\",\n  \"rows\": 577,\n  \"fields\": [\n    {\n      \"column\": \"f1\",\n      \"properties\": {\n        \"dtype\": \"number\",\n        \"std\": 0.3500448798397672,\n        \"min\": -1.101423281769172,\n        \"max\": 0.9174868187752447,\n        \"num_unique_values\": 577,\n        \"samples\": [\n          -0.1317294047191523,\n          -0.25678794089137225,\n          -0.08468493125542464\n        ],\n        \"semantic_type\": \"\",\n        \"description\": \"\"\n      }\n    },\n    {\n      \"column\": \"f2\",\n      \"properties\": {\n        \"dtype\": \"number\",\n        \"std\": 0.3070847482268675,\n        \"min\": -1.0010008346181167,\n        \"max\": 1.3230329964696377,\n        \"num_unique_values\": 577,\n        \"samples\": [\n          0.16148790889222656,\n          0.1098798930523887,\n          -0.11800727751267565\n        ],\n        \"semantic_type\": \"\",\n        \"description\": \"\"\n      }\n    },\n    {\n      \"column\": \"f3\",\n      \"properties\": {\n        \"dtype\": \"number\",\n        \"std\": 0.3204535690069374,\n        \"min\": -1.0573309818793537,\n        \"max\": 1.0891221138329852,\n        \"num_unique_values\": 577,\n        \"samples\": [\n          0.036726611445281054,\n          -0.299822563533508,\n          -0.45749998927089863\n        ],\n        \"semantic_type\": \"\",\n        \"description\": \"\"\n      }\n    },\n    {\n      \"column\": \"f4\",\n      \"properties\": {\n        \"dtype\": \"number\",\n        \"std\": 0.3073293698369204,\n        \"min\": -1.2492164280088847,\n        \"max\": 0.8329980874845413,\n        \"num_unique_values\": 577,\n        \"samples\": [\n          -0.205421115094124,\n          0.45336869961938253,\n          -0.23847314871230577\n        ],\n        \"semantic_type\": \"\",\n        \"description\": \"\"\n      }\n    },\n    {\n      \"column\": \"f5\",\n      \"properties\": {\n        \"dtype\": \"number\",\n        \"std\": 0.3039014319764645,\n        \"min\": -1.0666436441561329,\n        \"max\": 1.17254045789795,\n        \"num_unique_values\": 577,\n        \"samples\": [\n          -0.3128903956988516,\n          0.1702498191570737,\n          0.47549087468464535\n        ],\n        \"semantic_type\": \"\",\n        \"description\": \"\"\n      }\n    },\n    {\n      \"column\": \"f6\",\n      \"properties\": {\n        \"dtype\": \"number\",\n        \"std\": 0.32409374910405325,\n        \"min\": -0.8294104152976032,\n        \"max\": 1.3217993256812877,\n        \"num_unique_values\": 577,\n        \"samples\": [\n          0.3372331511832403,\n          -0.30757745727922514,\n          0.1258074355205966\n        ],\n        \"semantic_type\": \"\",\n        \"description\": \"\"\n      }\n    }\n  ]\n}"
            }
          },
          "metadata": {},
          "execution_count": 18
        }
      ]
    },
    {
      "cell_type": "code",
      "source": [
        "f_hat_ddfm_idx6.index = df_train_idx.index\n",
        "f_hat_ddfm6=f_hat_ddfm_idx6.reset_index()"
      ],
      "metadata": {
        "id": "Z1bw1Epy6Pje"
      },
      "execution_count": 19,
      "outputs": []
    },
    {
      "cell_type": "code",
      "source": [
        "f_hat_ddfm6.head()"
      ],
      "metadata": {
        "colab": {
          "base_uri": "https://localhost:8080/",
          "height": 206
        },
        "id": "xjh8JVh-jrzU",
        "outputId": "f2598763-d395-4556-ab33-2d36a477a777"
      },
      "execution_count": 20,
      "outputs": [
        {
          "output_type": "execute_result",
          "data": {
            "text/plain": [
              "        Index        f1        f2        f3        f4        f5        f6\n",
              "0  1960-01-01 -0.410142  0.112761  0.302629  0.558938  0.401059  0.000000\n",
              "1  1960-02-01  0.447758  0.163437  0.118480  0.040392 -0.823330 -0.811879\n",
              "2  1960-03-01 -0.313457  0.372762 -0.210943 -0.101538 -0.723166 -0.269557\n",
              "3  1960-04-01  0.110398 -0.100178  0.158665  0.015998 -0.588298 -0.076621\n",
              "4  1960-05-01 -0.261000  0.496313 -0.163399 -0.049169  0.119703 -0.017937"
            ],
            "text/html": [
              "\n",
              "  <div id=\"df-44bfe2ae-eb6e-4dea-9896-07f35855e02c\" class=\"colab-df-container\">\n",
              "    <div>\n",
              "<style scoped>\n",
              "    .dataframe tbody tr th:only-of-type {\n",
              "        vertical-align: middle;\n",
              "    }\n",
              "\n",
              "    .dataframe tbody tr th {\n",
              "        vertical-align: top;\n",
              "    }\n",
              "\n",
              "    .dataframe thead th {\n",
              "        text-align: right;\n",
              "    }\n",
              "</style>\n",
              "<table border=\"1\" class=\"dataframe\">\n",
              "  <thead>\n",
              "    <tr style=\"text-align: right;\">\n",
              "      <th></th>\n",
              "      <th>Index</th>\n",
              "      <th>f1</th>\n",
              "      <th>f2</th>\n",
              "      <th>f3</th>\n",
              "      <th>f4</th>\n",
              "      <th>f5</th>\n",
              "      <th>f6</th>\n",
              "    </tr>\n",
              "  </thead>\n",
              "  <tbody>\n",
              "    <tr>\n",
              "      <th>0</th>\n",
              "      <td>1960-01-01</td>\n",
              "      <td>-0.410142</td>\n",
              "      <td>0.112761</td>\n",
              "      <td>0.302629</td>\n",
              "      <td>0.558938</td>\n",
              "      <td>0.401059</td>\n",
              "      <td>0.000000</td>\n",
              "    </tr>\n",
              "    <tr>\n",
              "      <th>1</th>\n",
              "      <td>1960-02-01</td>\n",
              "      <td>0.447758</td>\n",
              "      <td>0.163437</td>\n",
              "      <td>0.118480</td>\n",
              "      <td>0.040392</td>\n",
              "      <td>-0.823330</td>\n",
              "      <td>-0.811879</td>\n",
              "    </tr>\n",
              "    <tr>\n",
              "      <th>2</th>\n",
              "      <td>1960-03-01</td>\n",
              "      <td>-0.313457</td>\n",
              "      <td>0.372762</td>\n",
              "      <td>-0.210943</td>\n",
              "      <td>-0.101538</td>\n",
              "      <td>-0.723166</td>\n",
              "      <td>-0.269557</td>\n",
              "    </tr>\n",
              "    <tr>\n",
              "      <th>3</th>\n",
              "      <td>1960-04-01</td>\n",
              "      <td>0.110398</td>\n",
              "      <td>-0.100178</td>\n",
              "      <td>0.158665</td>\n",
              "      <td>0.015998</td>\n",
              "      <td>-0.588298</td>\n",
              "      <td>-0.076621</td>\n",
              "    </tr>\n",
              "    <tr>\n",
              "      <th>4</th>\n",
              "      <td>1960-05-01</td>\n",
              "      <td>-0.261000</td>\n",
              "      <td>0.496313</td>\n",
              "      <td>-0.163399</td>\n",
              "      <td>-0.049169</td>\n",
              "      <td>0.119703</td>\n",
              "      <td>-0.017937</td>\n",
              "    </tr>\n",
              "  </tbody>\n",
              "</table>\n",
              "</div>\n",
              "    <div class=\"colab-df-buttons\">\n",
              "\n",
              "  <div class=\"colab-df-container\">\n",
              "    <button class=\"colab-df-convert\" onclick=\"convertToInteractive('df-44bfe2ae-eb6e-4dea-9896-07f35855e02c')\"\n",
              "            title=\"Convert this dataframe to an interactive table.\"\n",
              "            style=\"display:none;\">\n",
              "\n",
              "  <svg xmlns=\"http://www.w3.org/2000/svg\" height=\"24px\" viewBox=\"0 -960 960 960\">\n",
              "    <path d=\"M120-120v-720h720v720H120Zm60-500h600v-160H180v160Zm220 220h160v-160H400v160Zm0 220h160v-160H400v160ZM180-400h160v-160H180v160Zm440 0h160v-160H620v160ZM180-180h160v-160H180v160Zm440 0h160v-160H620v160Z\"/>\n",
              "  </svg>\n",
              "    </button>\n",
              "\n",
              "  <style>\n",
              "    .colab-df-container {\n",
              "      display:flex;\n",
              "      gap: 12px;\n",
              "    }\n",
              "\n",
              "    .colab-df-convert {\n",
              "      background-color: #E8F0FE;\n",
              "      border: none;\n",
              "      border-radius: 50%;\n",
              "      cursor: pointer;\n",
              "      display: none;\n",
              "      fill: #1967D2;\n",
              "      height: 32px;\n",
              "      padding: 0 0 0 0;\n",
              "      width: 32px;\n",
              "    }\n",
              "\n",
              "    .colab-df-convert:hover {\n",
              "      background-color: #E2EBFA;\n",
              "      box-shadow: 0px 1px 2px rgba(60, 64, 67, 0.3), 0px 1px 3px 1px rgba(60, 64, 67, 0.15);\n",
              "      fill: #174EA6;\n",
              "    }\n",
              "\n",
              "    .colab-df-buttons div {\n",
              "      margin-bottom: 4px;\n",
              "    }\n",
              "\n",
              "    [theme=dark] .colab-df-convert {\n",
              "      background-color: #3B4455;\n",
              "      fill: #D2E3FC;\n",
              "    }\n",
              "\n",
              "    [theme=dark] .colab-df-convert:hover {\n",
              "      background-color: #434B5C;\n",
              "      box-shadow: 0px 1px 3px 1px rgba(0, 0, 0, 0.15);\n",
              "      filter: drop-shadow(0px 1px 2px rgba(0, 0, 0, 0.3));\n",
              "      fill: #FFFFFF;\n",
              "    }\n",
              "  </style>\n",
              "\n",
              "    <script>\n",
              "      const buttonEl =\n",
              "        document.querySelector('#df-44bfe2ae-eb6e-4dea-9896-07f35855e02c button.colab-df-convert');\n",
              "      buttonEl.style.display =\n",
              "        google.colab.kernel.accessAllowed ? 'block' : 'none';\n",
              "\n",
              "      async function convertToInteractive(key) {\n",
              "        const element = document.querySelector('#df-44bfe2ae-eb6e-4dea-9896-07f35855e02c');\n",
              "        const dataTable =\n",
              "          await google.colab.kernel.invokeFunction('convertToInteractive',\n",
              "                                                    [key], {});\n",
              "        if (!dataTable) return;\n",
              "\n",
              "        const docLinkHtml = 'Like what you see? Visit the ' +\n",
              "          '<a target=\"_blank\" href=https://colab.research.google.com/notebooks/data_table.ipynb>data table notebook</a>'\n",
              "          + ' to learn more about interactive tables.';\n",
              "        element.innerHTML = '';\n",
              "        dataTable['output_type'] = 'display_data';\n",
              "        await google.colab.output.renderOutput(dataTable, element);\n",
              "        const docLink = document.createElement('div');\n",
              "        docLink.innerHTML = docLinkHtml;\n",
              "        element.appendChild(docLink);\n",
              "      }\n",
              "    </script>\n",
              "  </div>\n",
              "\n",
              "\n",
              "<div id=\"df-60b9b61c-8523-4ff1-9ee3-ed01adbe1761\">\n",
              "  <button class=\"colab-df-quickchart\" onclick=\"quickchart('df-60b9b61c-8523-4ff1-9ee3-ed01adbe1761')\"\n",
              "            title=\"Suggest charts\"\n",
              "            style=\"display:none;\">\n",
              "\n",
              "<svg xmlns=\"http://www.w3.org/2000/svg\" height=\"24px\"viewBox=\"0 0 24 24\"\n",
              "     width=\"24px\">\n",
              "    <g>\n",
              "        <path d=\"M19 3H5c-1.1 0-2 .9-2 2v14c0 1.1.9 2 2 2h14c1.1 0 2-.9 2-2V5c0-1.1-.9-2-2-2zM9 17H7v-7h2v7zm4 0h-2V7h2v10zm4 0h-2v-4h2v4z\"/>\n",
              "    </g>\n",
              "</svg>\n",
              "  </button>\n",
              "\n",
              "<style>\n",
              "  .colab-df-quickchart {\n",
              "      --bg-color: #E8F0FE;\n",
              "      --fill-color: #1967D2;\n",
              "      --hover-bg-color: #E2EBFA;\n",
              "      --hover-fill-color: #174EA6;\n",
              "      --disabled-fill-color: #AAA;\n",
              "      --disabled-bg-color: #DDD;\n",
              "  }\n",
              "\n",
              "  [theme=dark] .colab-df-quickchart {\n",
              "      --bg-color: #3B4455;\n",
              "      --fill-color: #D2E3FC;\n",
              "      --hover-bg-color: #434B5C;\n",
              "      --hover-fill-color: #FFFFFF;\n",
              "      --disabled-bg-color: #3B4455;\n",
              "      --disabled-fill-color: #666;\n",
              "  }\n",
              "\n",
              "  .colab-df-quickchart {\n",
              "    background-color: var(--bg-color);\n",
              "    border: none;\n",
              "    border-radius: 50%;\n",
              "    cursor: pointer;\n",
              "    display: none;\n",
              "    fill: var(--fill-color);\n",
              "    height: 32px;\n",
              "    padding: 0;\n",
              "    width: 32px;\n",
              "  }\n",
              "\n",
              "  .colab-df-quickchart:hover {\n",
              "    background-color: var(--hover-bg-color);\n",
              "    box-shadow: 0 1px 2px rgba(60, 64, 67, 0.3), 0 1px 3px 1px rgba(60, 64, 67, 0.15);\n",
              "    fill: var(--button-hover-fill-color);\n",
              "  }\n",
              "\n",
              "  .colab-df-quickchart-complete:disabled,\n",
              "  .colab-df-quickchart-complete:disabled:hover {\n",
              "    background-color: var(--disabled-bg-color);\n",
              "    fill: var(--disabled-fill-color);\n",
              "    box-shadow: none;\n",
              "  }\n",
              "\n",
              "  .colab-df-spinner {\n",
              "    border: 2px solid var(--fill-color);\n",
              "    border-color: transparent;\n",
              "    border-bottom-color: var(--fill-color);\n",
              "    animation:\n",
              "      spin 1s steps(1) infinite;\n",
              "  }\n",
              "\n",
              "  @keyframes spin {\n",
              "    0% {\n",
              "      border-color: transparent;\n",
              "      border-bottom-color: var(--fill-color);\n",
              "      border-left-color: var(--fill-color);\n",
              "    }\n",
              "    20% {\n",
              "      border-color: transparent;\n",
              "      border-left-color: var(--fill-color);\n",
              "      border-top-color: var(--fill-color);\n",
              "    }\n",
              "    30% {\n",
              "      border-color: transparent;\n",
              "      border-left-color: var(--fill-color);\n",
              "      border-top-color: var(--fill-color);\n",
              "      border-right-color: var(--fill-color);\n",
              "    }\n",
              "    40% {\n",
              "      border-color: transparent;\n",
              "      border-right-color: var(--fill-color);\n",
              "      border-top-color: var(--fill-color);\n",
              "    }\n",
              "    60% {\n",
              "      border-color: transparent;\n",
              "      border-right-color: var(--fill-color);\n",
              "    }\n",
              "    80% {\n",
              "      border-color: transparent;\n",
              "      border-right-color: var(--fill-color);\n",
              "      border-bottom-color: var(--fill-color);\n",
              "    }\n",
              "    90% {\n",
              "      border-color: transparent;\n",
              "      border-bottom-color: var(--fill-color);\n",
              "    }\n",
              "  }\n",
              "</style>\n",
              "\n",
              "  <script>\n",
              "    async function quickchart(key) {\n",
              "      const quickchartButtonEl =\n",
              "        document.querySelector('#' + key + ' button');\n",
              "      quickchartButtonEl.disabled = true;  // To prevent multiple clicks.\n",
              "      quickchartButtonEl.classList.add('colab-df-spinner');\n",
              "      try {\n",
              "        const charts = await google.colab.kernel.invokeFunction(\n",
              "            'suggestCharts', [key], {});\n",
              "      } catch (error) {\n",
              "        console.error('Error during call to suggestCharts:', error);\n",
              "      }\n",
              "      quickchartButtonEl.classList.remove('colab-df-spinner');\n",
              "      quickchartButtonEl.classList.add('colab-df-quickchart-complete');\n",
              "    }\n",
              "    (() => {\n",
              "      let quickchartButtonEl =\n",
              "        document.querySelector('#df-60b9b61c-8523-4ff1-9ee3-ed01adbe1761 button');\n",
              "      quickchartButtonEl.style.display =\n",
              "        google.colab.kernel.accessAllowed ? 'block' : 'none';\n",
              "    })();\n",
              "  </script>\n",
              "</div>\n",
              "\n",
              "    </div>\n",
              "  </div>\n"
            ],
            "application/vnd.google.colaboratory.intrinsic+json": {
              "type": "dataframe",
              "variable_name": "f_hat_ddfm6",
              "summary": "{\n  \"name\": \"f_hat_ddfm6\",\n  \"rows\": 577,\n  \"fields\": [\n    {\n      \"column\": \"Index\",\n      \"properties\": {\n        \"dtype\": \"object\",\n        \"num_unique_values\": 577,\n        \"samples\": [\n          \"1969-11-01\",\n          \"1992-10-01\",\n          \"2002-11-01\"\n        ],\n        \"semantic_type\": \"\",\n        \"description\": \"\"\n      }\n    },\n    {\n      \"column\": \"f1\",\n      \"properties\": {\n        \"dtype\": \"number\",\n        \"std\": 0.3500448798397672,\n        \"min\": -1.101423281769172,\n        \"max\": 0.9174868187752447,\n        \"num_unique_values\": 577,\n        \"samples\": [\n          -0.1317294047191523,\n          -0.25678794089137225,\n          -0.08468493125542464\n        ],\n        \"semantic_type\": \"\",\n        \"description\": \"\"\n      }\n    },\n    {\n      \"column\": \"f2\",\n      \"properties\": {\n        \"dtype\": \"number\",\n        \"std\": 0.3070847482268675,\n        \"min\": -1.0010008346181167,\n        \"max\": 1.3230329964696377,\n        \"num_unique_values\": 577,\n        \"samples\": [\n          0.16148790889222656,\n          0.1098798930523887,\n          -0.11800727751267565\n        ],\n        \"semantic_type\": \"\",\n        \"description\": \"\"\n      }\n    },\n    {\n      \"column\": \"f3\",\n      \"properties\": {\n        \"dtype\": \"number\",\n        \"std\": 0.3204535690069374,\n        \"min\": -1.0573309818793537,\n        \"max\": 1.0891221138329852,\n        \"num_unique_values\": 577,\n        \"samples\": [\n          0.036726611445281054,\n          -0.299822563533508,\n          -0.45749998927089863\n        ],\n        \"semantic_type\": \"\",\n        \"description\": \"\"\n      }\n    },\n    {\n      \"column\": \"f4\",\n      \"properties\": {\n        \"dtype\": \"number\",\n        \"std\": 0.3073293698369204,\n        \"min\": -1.2492164280088847,\n        \"max\": 0.8329980874845413,\n        \"num_unique_values\": 577,\n        \"samples\": [\n          -0.205421115094124,\n          0.45336869961938253,\n          -0.23847314871230577\n        ],\n        \"semantic_type\": \"\",\n        \"description\": \"\"\n      }\n    },\n    {\n      \"column\": \"f5\",\n      \"properties\": {\n        \"dtype\": \"number\",\n        \"std\": 0.3039014319764645,\n        \"min\": -1.0666436441561329,\n        \"max\": 1.17254045789795,\n        \"num_unique_values\": 577,\n        \"samples\": [\n          -0.3128903956988516,\n          0.1702498191570737,\n          0.47549087468464535\n        ],\n        \"semantic_type\": \"\",\n        \"description\": \"\"\n      }\n    },\n    {\n      \"column\": \"f6\",\n      \"properties\": {\n        \"dtype\": \"number\",\n        \"std\": 0.32409374910405325,\n        \"min\": -0.8294104152976032,\n        \"max\": 1.3217993256812877,\n        \"num_unique_values\": 577,\n        \"samples\": [\n          0.3372331511832403,\n          -0.30757745727922514,\n          0.1258074355205966\n        ],\n        \"semantic_type\": \"\",\n        \"description\": \"\"\n      }\n    }\n  ]\n}"
            }
          },
          "metadata": {},
          "execution_count": 20
        }
      ]
    },
    {
      "cell_type": "code",
      "source": [
        "f_hat_ddfm_idx6.to_csv('/content/drive/MyDrive/D2FM/f_hat_DDFM_fact6.csv', index=False)"
      ],
      "metadata": {
        "id": "5NLMaDQR4Wqj"
      },
      "execution_count": 24,
      "outputs": []
    },
    {
      "cell_type": "markdown",
      "source": [
        "## Klieber"
      ],
      "metadata": {
        "id": "v9jop33_dtHj"
      }
    },
    {
      "cell_type": "code",
      "source": [
        "ddfmk = DDFM(df_train_idx, structure_encoder=(126, 86, 46, 6), link='relu', max_iter=1000, batch_size=24, batch_norm=False)\n",
        "ddfmk.fit()"
      ],
      "metadata": {
        "colab": {
          "base_uri": "https://localhost:8080/"
        },
        "id": "idjR54p7dsk-",
        "outputId": "65fdfad7-5360-4f71-9c52-abedb755cb17"
      },
      "execution_count": 12,
      "outputs": [
        {
          "output_type": "stream",
          "name": "stdout",
          "text": [
            "@Info - Note: Sorting data.\n",
            "19/19 [==============================] - 0s 2ms/step\n",
            "@Info: Convergence achieved in 2 iterations - new loss: 0.6280691799468571 - delta: 0.0004362362686674703 < 0.0005\n"
          ]
        }
      ]
    },
    {
      "cell_type": "code",
      "source": [
        "last_state, last_state_var_cov_matrix = ddfmk.get_last_state()"
      ],
      "metadata": {
        "id": "jH6fxeZfe6XU"
      },
      "execution_count": 13,
      "outputs": []
    },
    {
      "cell_type": "code",
      "source": [
        "predictionsk = ddfmk.predict(last_state, last_state_var_cov_matrix, steps_ahead)\n",
        "#predictions7['states'].shape\n",
        "y_t_k_k=ddfmk.predict_observations(last_state, last_state_var_cov_matrix , steps_ahead)\n",
        "#df_test_first_12_rows = df_test_idx.iloc[:12, :]\n",
        "mse_row=np.mean((test_array - y_t_k_k)**2, axis=1)\n",
        "mse_145=np.mean(mse_row)\n",
        "mae_145 = np.mean(np.abs(test_array - y_t_k_k))\n",
        "rmsfe_145 = np.sqrt(np.mean((test_array - y_t_k_k) ** 2))\n",
        "print(\"Mean Squared Error:\", mse_145)\n",
        "print(\"Mean Absolute Error:\", mae_145)\n",
        "print(\"Root Mean Squared Forecast Error:\", rmsfe_145)"
      ],
      "metadata": {
        "colab": {
          "base_uri": "https://localhost:8080/"
        },
        "id": "eytC0dKbfAF9",
        "outputId": "93375d6c-6cbd-4c23-8f51-3249162a65f2"
      },
      "execution_count": 23,
      "outputs": [
        {
          "output_type": "stream",
          "name": "stdout",
          "text": [
            "Mean Squared Error: 0.9636234953094749\n",
            "Mean Absolute Error: 0.6886829249102709\n",
            "Root Mean Squared Forecast Error: 0.9816432627535702\n"
          ]
        }
      ]
    }
  ],
  "metadata": {
    "colab": {
      "provenance": []
    },
    "kernelspec": {
      "display_name": "Python 3",
      "name": "python3"
    },
    "language_info": {
      "name": "python"
    }
  },
  "nbformat": 4,
  "nbformat_minor": 0
}