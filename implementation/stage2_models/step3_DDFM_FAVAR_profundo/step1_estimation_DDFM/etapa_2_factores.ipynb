{
  "cells": [
    {
      "cell_type": "markdown",
      "source": [],
      "metadata": {
        "id": "Cd4nMBK48QS-"
      }
    },
    {
      "cell_type": "code",
      "source": [
        "import os,sys,inspect\n",
        "currentdir = os.path.dirname(os.path.abspath(inspect.getfile(inspect.currentframe())))\n",
        "parentdir = os.path.dirname(currentdir)\n",
        "parentdir = os.path.dirname(parentdir)\n",
        "sys.path.insert(0,parentdir)"
      ],
      "metadata": {
        "id": "IUTkX92sKF5N"
      },
      "execution_count": 2,
      "outputs": []
    },
    {
      "cell_type": "code",
      "source": [
        "from google.colab import drive\n",
        "drive.mount('/content/drive')"
      ],
      "metadata": {
        "colab": {
          "base_uri": "https://localhost:8080/"
        },
        "id": "Xll83j-0QPuY",
        "outputId": "2105dce3-1602-4d0c-e6db-53318b63d3a5"
      },
      "execution_count": 3,
      "outputs": [
        {
          "output_type": "stream",
          "name": "stdout",
          "text": [
            "Mounted at /content/drive\n"
          ]
        }
      ]
    },
    {
      "cell_type": "code",
      "source": [
        "import sys\n",
        "sys.path.append('/content/drive/My Drive/D2FM')\n",
        "module_path = '/content/drive/My Drive/D2FM'\n",
        "if module_path not in sys.path:\n",
        "    sys.path.append(module_path)"
      ],
      "metadata": {
        "id": "OHQp36zkQZ_o"
      },
      "execution_count": 4,
      "outputs": []
    },
    {
      "cell_type": "code",
      "source": [
        "!pip install pykalman"
      ],
      "metadata": {
        "colab": {
          "base_uri": "https://localhost:8080/"
        },
        "id": "OS3rYn20WLyj",
        "outputId": "fad14bbc-6f3a-413d-b7ff-ea54409fbd29"
      },
      "execution_count": 5,
      "outputs": [
        {
          "output_type": "stream",
          "name": "stdout",
          "text": [
            "Collecting pykalman\n",
            "  Downloading pykalman-0.9.7-py2.py3-none-any.whl (251 kB)\n",
            "\u001b[?25l     \u001b[90m━━━━━━━━━━━━━━━━━━━━━━━━━━━━━━━━━━━━━━━━\u001b[0m \u001b[32m0.0/251.6 kB\u001b[0m \u001b[31m?\u001b[0m eta \u001b[36m-:--:--\u001b[0m\r\u001b[2K     \u001b[91m━━━━━━━━━━━━━━━━━━━━━━━━━━━━━━\u001b[0m\u001b[91m╸\u001b[0m\u001b[90m━━━━━━━━━\u001b[0m \u001b[32m194.6/251.6 kB\u001b[0m \u001b[31m5.8 MB/s\u001b[0m eta \u001b[36m0:00:01\u001b[0m\r\u001b[2K     \u001b[90m━━━━━━━━━━━━━━━━━━━━━━━━━━━━━━━━━━━━━━━━\u001b[0m \u001b[32m251.6/251.6 kB\u001b[0m \u001b[31m5.4 MB/s\u001b[0m eta \u001b[36m0:00:00\u001b[0m\n",
            "\u001b[?25hRequirement already satisfied: numpy in /usr/local/lib/python3.10/dist-packages (from pykalman) (1.25.2)\n",
            "Requirement already satisfied: scipy in /usr/local/lib/python3.10/dist-packages (from pykalman) (1.11.4)\n",
            "Installing collected packages: pykalman\n",
            "Successfully installed pykalman-0.9.7\n"
          ]
        }
      ]
    },
    {
      "cell_type": "code",
      "source": [
        "from models.ddfm import *"
      ],
      "metadata": {
        "id": "sfZM6nNNVDp0"
      },
      "execution_count": 6,
      "outputs": []
    },
    {
      "cell_type": "code",
      "execution_count": 7,
      "metadata": {
        "id": "--U2KPzqary4"
      },
      "outputs": [],
      "source": [
        "import numpy as np\n",
        "import pandas as pd\n",
        "import tensorflow as tf\n",
        "from typing import Tuple\n",
        "from tensorflow import keras\n",
        "from tensorflow.keras import layers\n",
        "from statsmodels.tsa.statespace.dynamic_factor_mq import DynamicFactorMQ as DFM\n",
        "from sklearn.model_selection import ParameterGrid\n",
        "from typing import Tuple\n",
        "import numpy as np\n",
        "from pykalman import KalmanFilter"
      ]
    },
    {
      "cell_type": "code",
      "execution_count": 8,
      "metadata": {
        "id": "0cgoKGqbd-ea"
      },
      "outputs": [],
      "source": [
        "#from google.colab import files\n",
        "#uploaded = files.upload()"
      ]
    },
    {
      "cell_type": "code",
      "execution_count": 9,
      "metadata": {
        "id": "Jk9uMGiReqjf"
      },
      "outputs": [],
      "source": [
        "import warnings\n",
        "warnings.filterwarnings(\"ignore\")\n",
        "import random\n",
        "from sklearn.metrics import mean_squared_error as mse\n",
        "from typing import Tuple\n",
        "from sklearn.preprocessing import StandardScaler"
      ]
    },
    {
      "cell_type": "code",
      "execution_count": 10,
      "metadata": {
        "id": "s5TS6VMnrDrw"
      },
      "outputs": [],
      "source": [
        "df_train = pd.read_csv('/content/drive/MyDrive/D2FM/scaled_train.csv')\n",
        "df_test=pd.read_csv('/content/drive/MyDrive/D2FM/scaled_test.csv')\n"
      ]
    },
    {
      "cell_type": "code",
      "source": [
        "df_train.columns"
      ],
      "metadata": {
        "colab": {
          "base_uri": "https://localhost:8080/"
        },
        "id": "hEM3tUkzgMVo",
        "outputId": "61ee31b1-03d4-48e8-e1f8-070b5ac68271"
      },
      "execution_count": 11,
      "outputs": [
        {
          "output_type": "execute_result",
          "data": {
            "text/plain": [
              "Index(['Index', 'RPI', 'W875RX1', 'DPCERA3M086SBEA', 'INDPRO', 'IPFPNSS',\n",
              "       'IPFINAL', 'IPCONGD', 'IPDCONGD', 'IPNCONGD',\n",
              "       ...\n",
              "       'AAAFFM', 'BAAFFM', 'EXSZUSx', 'EXJPUSx', 'EXUSUKx', 'EXCAUSx',\n",
              "       'DTCOLNVHFNM', 'DTCTHFNM', 'INVEST', 'FEDFUNDS'],\n",
              "      dtype='object', length=119)"
            ]
          },
          "metadata": {},
          "execution_count": 11
        }
      ]
    },
    {
      "cell_type": "code",
      "source": [
        "df_train_idx=df_train.set_index(\"Index\")\n",
        "df_test_idx=df_test.set_index(\"Index\")"
      ],
      "metadata": {
        "id": "0-Kz_xZDgJ5z"
      },
      "execution_count": 12,
      "outputs": []
    },
    {
      "cell_type": "markdown",
      "source": [
        "Minimum Loss: 0.6215284234293389 with encoder (120, 60, 40, 5), lag 1, use_bias False, link tanh, batch_size 72, r 5\n",
        "\n",
        "Minimum Loss: 0.589956869321811 with encoder (144, 72, 48, 6), lag 1, use_bias True, link tanh, batch_size 100, r 6\n",
        "\n",
        "Minimum Loss: 0.560155765006405 with encoder (168, 84, 56, 7), lag 1, use_bias True, link tanh, batch_size 72, r 7"
      ],
      "metadata": {
        "id": "iISThqHK51Jo"
      }
    },
    {
      "cell_type": "markdown",
      "source": [
        "## Para 5 factores:"
      ],
      "metadata": {
        "id": "Lb5dx2av6Rsg"
      }
    },
    {
      "cell_type": "code",
      "source": [
        "ddfm5 = DDFM(df_train_idx, structure_encoder=(120, 60, 40, 5), lags_input=1, factor_oder=2,\n",
        "                             use_bias=False, link='tanh', batch_size=72, max_iter=1000)\n",
        "ddfm5.fit()"
      ],
      "metadata": {
        "colab": {
          "base_uri": "https://localhost:8080/"
        },
        "id": "132kZliW520v",
        "outputId": "cb7e9a6b-6c38-4496-923a-f0139e69ff94"
      },
      "execution_count": 13,
      "outputs": [
        {
          "output_type": "stream",
          "name": "stdout",
          "text": [
            "@Info - Note: Sorting data.\n",
            "18/18 [==============================] - 0s 2ms/step\n",
            "@Info: Convergence achieved in 5 iterations - new loss: 0.6220574668162808 - delta: 0.0004976296843081726 < 0.0005\n"
          ]
        }
      ]
    },
    {
      "cell_type": "code",
      "source": [
        "last_state, last_state_var_cov_matrix = ddfm5.get_last_state()"
      ],
      "metadata": {
        "id": "LmUJvnyD6LXB"
      },
      "execution_count": 14,
      "outputs": []
    },
    {
      "cell_type": "code",
      "source": [
        "steps_ahead = df_test_idx.shape[0]  # for example, predict 5 steps ahead\n",
        "predictions5 = ddfm5.predict(last_state, last_state_var_cov_matrix, steps_ahead)\n",
        "#predictions7['states'].shape\n",
        "y_t_k_5=ddfm5.predict_observations(last_state, last_state_var_cov_matrix , steps_ahead)\n",
        "#df_test_first_12_rows = df_test_idx.iloc[:12, :]\n",
        "test_array = df_test_idx.to_numpy()\n",
        "mse_row=np.mean((test_array - y_t_k_5)**2, axis=1)\n",
        "mse_145=np.mean(mse_row)\n",
        "mae_145 = np.mean(np.abs(test_array - y_t_k_5))\n",
        "rmsfe_145 = np.sqrt(np.mean((test_array - y_t_k_5) ** 2))\n",
        "print(\"Mean Squared Error:\", mse_145)\n",
        "print(\"Mean Absolute Error:\", mae_145)\n",
        "print(\"Root Mean Squared Forecast Error:\", rmsfe_145)"
      ],
      "metadata": {
        "colab": {
          "base_uri": "https://localhost:8080/"
        },
        "id": "WNFOyqa46PZn",
        "outputId": "51535c84-eed8-4fda-ed65-35780a45f284"
      },
      "execution_count": 15,
      "outputs": [
        {
          "output_type": "stream",
          "name": "stdout",
          "text": [
            "Mean Squared Error: 0.9639020017473933\n",
            "Mean Absolute Error: 0.6861313875072609\n",
            "Root Mean Squared Forecast Error: 0.9817851097604778\n"
          ]
        }
      ]
    },
    {
      "cell_type": "markdown",
      "source": [
        "## Para 6 factores:"
      ],
      "metadata": {
        "id": "ZSNwENQ1XKii"
      }
    },
    {
      "cell_type": "code",
      "source": [
        "ddfm6 = DDFM(df_train_idx, structure_encoder=(144, 72, 48, 6), lags_input=1, factor_oder=2,\n",
        "                             use_bias=True, link='tanh', batch_size=100, max_iter=1000)\n",
        "ddfm6.fit()"
      ],
      "metadata": {
        "colab": {
          "base_uri": "https://localhost:8080/"
        },
        "id": "kBWbuZwx_6MV",
        "outputId": "9cb45b91-06e1-422c-e188-067e13bfdc0e"
      },
      "execution_count": 16,
      "outputs": [
        {
          "output_type": "stream",
          "name": "stdout",
          "text": [
            "@Info - Note: Sorting data.\n",
            "18/18 [==============================] - 0s 2ms/step\n",
            "@Info: Convergence achieved in 5 iterations - new loss: 0.5897969142813294 - delta: 0.0004564516147610657 < 0.0005\n"
          ]
        }
      ]
    },
    {
      "cell_type": "code",
      "source": [
        "last_state, last_state_var_cov_matrix = ddfm6.get_last_state()"
      ],
      "metadata": {
        "id": "g_jciHskfia-"
      },
      "execution_count": 17,
      "outputs": []
    },
    {
      "cell_type": "code",
      "source": [
        "last_state.shape"
      ],
      "metadata": {
        "colab": {
          "base_uri": "https://localhost:8080/"
        },
        "id": "YCMFDVPnfk2H",
        "outputId": "a0407252-09d8-4247-9088-804ca72a382e"
      },
      "execution_count": 18,
      "outputs": [
        {
          "output_type": "execute_result",
          "data": {
            "text/plain": [
              "(130,)"
            ]
          },
          "metadata": {},
          "execution_count": 18
        }
      ]
    },
    {
      "cell_type": "code",
      "source": [
        "steps_ahead = df_test_idx.shape[0]  # for example, predict 5 steps ahead\n",
        "predictions6 = ddfm6.predict(last_state, last_state_var_cov_matrix, steps_ahead)\n",
        "#predictions7['states'].shape\n",
        "y_t_k_6=ddfm6.predict_observations(last_state, last_state_var_cov_matrix , steps_ahead)\n",
        "#df_test_first_12_rows = df_test_idx.iloc[:12, :]\n",
        "test_array = df_test_idx.to_numpy()\n",
        "mse_row=np.mean((test_array - y_t_k_6)**2, axis=1)\n",
        "mse_145=np.mean(mse_row)\n",
        "mae_145 = np.mean(np.abs(test_array - y_t_k_6))\n",
        "rmsfe_145 = np.sqrt(np.mean((test_array - y_t_k_6) ** 2))\n",
        "print(\"Mean Squared Error:\", mse_145)\n",
        "print(\"Mean Absolute Error:\", mae_145)\n",
        "print(\"Root Mean Squared Forecast Error:\", rmsfe_145)"
      ],
      "metadata": {
        "colab": {
          "base_uri": "https://localhost:8080/"
        },
        "id": "4TJefrAGCMhk",
        "outputId": "eca1db9f-89c3-44bd-9397-d7d48aeb0826"
      },
      "execution_count": 19,
      "outputs": [
        {
          "output_type": "stream",
          "name": "stdout",
          "text": [
            "Mean Squared Error: 0.9575909769901686\n",
            "Mean Absolute Error: 0.6841686213413235\n",
            "Root Mean Squared Forecast Error: 0.9785657755052383\n"
          ]
        }
      ]
    },
    {
      "cell_type": "markdown",
      "source": [
        "## Para 7 factores"
      ],
      "metadata": {
        "id": "saKlaHKd67gO"
      }
    },
    {
      "cell_type": "code",
      "source": [
        "ddfm7 = DDFM(df_train_idx, structure_encoder=(168, 84, 56, 7), lags_input=1, factor_oder=2,\n",
        "                             use_bias=True, link='tanh', batch_size=72, max_iter=1000)\n",
        "ddfm7.fit()\n",
        "last_state, last_state_var_cov_matrix = ddfm7.get_last_state()\n",
        "steps_ahead = df_test_idx.shape[0]  # for example, predict 5 steps ahead\n",
        "predictions7 = ddfm7.predict(last_state, last_state_var_cov_matrix, steps_ahead)\n",
        "#predictions7['states'].shape\n",
        "y_t_k_7=ddfm7.predict_observations(last_state, last_state_var_cov_matrix , steps_ahead)\n",
        "#df_test_first_12_rows = df_test_idx.iloc[:12, :]\n",
        "test_array = df_test_idx.to_numpy()\n",
        "mse_row=np.mean((test_array - y_t_k_7)**2, axis=1)\n",
        "mse_145=np.mean(mse_row)\n",
        "mae_145 = np.mean(np.abs(test_array - y_t_k_7))\n",
        "rmsfe_145 = np.sqrt(np.mean((test_array - y_t_k_7) ** 2))\n",
        "print(\"Mean Squared Error:\", mse_145)\n",
        "print(\"Mean Absolute Error:\", mae_145)\n",
        "print(\"Root Mean Squared Forecast Error:\", rmsfe_145)"
      ],
      "metadata": {
        "colab": {
          "base_uri": "https://localhost:8080/"
        },
        "id": "JlrOHoav667S",
        "outputId": "f66df47b-12e9-4def-a122-7edcaa201243"
      },
      "execution_count": 20,
      "outputs": [
        {
          "output_type": "stream",
          "name": "stdout",
          "text": [
            "@Info - Note: Sorting data.\n",
            "18/18 [==============================] - 0s 2ms/step\n",
            "@Info: Convergence achieved in 6 iterations - new loss: 0.5602274381179211 - delta: 0.0003571184439098407 < 0.0005\n",
            "Mean Squared Error: 0.9564052896107641\n",
            "Mean Absolute Error: 0.6838071369116704\n",
            "Root Mean Squared Forecast Error: 0.9779597586868102\n"
          ]
        }
      ]
    },
    {
      "cell_type": "code",
      "source": [
        "#n = ddfm.state_space.F.shape[0]\n",
        "#x_hat_start = np.zeros((1, n))\n",
        "#sigma_x_hat_start = np.eye(ddfm.state_space.F.shape[0])\n",
        "#x_hat_start.shape"
      ],
      "metadata": {
        "id": "7KYikWg204_6"
      },
      "execution_count": null,
      "outputs": []
    },
    {
      "cell_type": "code",
      "source": [
        "#dir(ddfm)"
      ],
      "metadata": {
        "id": "RNsajVuqvPNg"
      },
      "execution_count": null,
      "outputs": []
    },
    {
      "cell_type": "markdown",
      "source": [
        "### factores filtrados"
      ],
      "metadata": {
        "id": "ownemPmS75og"
      }
    },
    {
      "cell_type": "code",
      "source": [
        "ff5=ddfm5.factors_filtered\n",
        "f_hat_ddfm_idx5 = pd.DataFrame(ff5, columns=[\"f1\", \"f2\", \"f3\", \"f4\", \"f5\"])\n",
        "f_hat_ddfm_idx5.index = df_train_idx.index\n",
        "f_hat_ddfm5=f_hat_ddfm_idx5.reset_index()\n",
        "f_hat_ddfm5.to_csv('/content/drive/MyDrive/D2FM/f_hat_DDFM_fact5.csv', index=False)"
      ],
      "metadata": {
        "id": "A0xIqY0kgrY7"
      },
      "execution_count": 21,
      "outputs": []
    },
    {
      "cell_type": "code",
      "source": [
        "ff6=ddfm6.factors_filtered\n",
        "f_hat_ddfm_idx6 = pd.DataFrame(ff6, columns=[\"f1\", \"f2\", \"f3\", \"f4\", \"f5\", \"f6\"])\n",
        "f_hat_ddfm_idx6.index = df_train_idx.index\n",
        "f_hat_ddfm6=f_hat_ddfm_idx6.reset_index()\n",
        "f_hat_ddfm6.to_csv('/content/drive/MyDrive/D2FM/f_hat_DDFM_fact6.csv', index=False)"
      ],
      "metadata": {
        "id": "dtJYfyHPgiUM"
      },
      "execution_count": 22,
      "outputs": []
    },
    {
      "cell_type": "code",
      "source": [
        "ff7=ddfm7.factors_filtered\n",
        "ff7.shape"
      ],
      "metadata": {
        "colab": {
          "base_uri": "https://localhost:8080/"
        },
        "id": "TjdS7Pws2mDd",
        "outputId": "5ccfccd6-a8fc-4792-83b9-3d9c87083b07"
      },
      "execution_count": 23,
      "outputs": [
        {
          "output_type": "execute_result",
          "data": {
            "text/plain": [
              "(577, 7)"
            ]
          },
          "metadata": {},
          "execution_count": 23
        }
      ]
    },
    {
      "cell_type": "code",
      "source": [
        "f_hat_ddfm_idx7 = pd.DataFrame(ff7, columns=[\"f1\", \"f2\", \"f3\", \"f4\", \"f5\", \"f6\", \"f7\"])"
      ],
      "metadata": {
        "id": "wkrZBYdr3rQN"
      },
      "execution_count": 24,
      "outputs": []
    },
    {
      "cell_type": "code",
      "source": [
        "f_hat_ddfm_idx7.head()"
      ],
      "metadata": {
        "colab": {
          "base_uri": "https://localhost:8080/",
          "height": 206
        },
        "id": "JKcP-ci6j1nx",
        "outputId": "10969a6c-a9f0-4140-808e-277879f170e1"
      },
      "execution_count": 25,
      "outputs": [
        {
          "output_type": "execute_result",
          "data": {
            "text/plain": [
              "         f1        f2        f3        f4        f5        f6        f7\n",
              "0 -0.436209 -0.313294  0.678699  0.477978  0.371764  0.213296  0.000000\n",
              "1  0.152070  0.422210 -0.203465  0.262834 -0.634552 -0.134829 -0.554202\n",
              "2 -0.445482  0.138910 -0.110341  0.070396 -0.577147 -0.443397 -0.489403\n",
              "3  0.511943  0.355700 -0.360430  0.336868 -0.148251 -0.704480 -0.244418\n",
              "4 -0.678348  0.172320  0.164158 -0.049188  0.006871 -0.061646 -0.289158"
            ],
            "text/html": [
              "\n",
              "  <div id=\"df-8e771b83-e565-4e8b-abb0-fef711929019\" class=\"colab-df-container\">\n",
              "    <div>\n",
              "<style scoped>\n",
              "    .dataframe tbody tr th:only-of-type {\n",
              "        vertical-align: middle;\n",
              "    }\n",
              "\n",
              "    .dataframe tbody tr th {\n",
              "        vertical-align: top;\n",
              "    }\n",
              "\n",
              "    .dataframe thead th {\n",
              "        text-align: right;\n",
              "    }\n",
              "</style>\n",
              "<table border=\"1\" class=\"dataframe\">\n",
              "  <thead>\n",
              "    <tr style=\"text-align: right;\">\n",
              "      <th></th>\n",
              "      <th>f1</th>\n",
              "      <th>f2</th>\n",
              "      <th>f3</th>\n",
              "      <th>f4</th>\n",
              "      <th>f5</th>\n",
              "      <th>f6</th>\n",
              "      <th>f7</th>\n",
              "    </tr>\n",
              "  </thead>\n",
              "  <tbody>\n",
              "    <tr>\n",
              "      <th>0</th>\n",
              "      <td>-0.436209</td>\n",
              "      <td>-0.313294</td>\n",
              "      <td>0.678699</td>\n",
              "      <td>0.477978</td>\n",
              "      <td>0.371764</td>\n",
              "      <td>0.213296</td>\n",
              "      <td>0.000000</td>\n",
              "    </tr>\n",
              "    <tr>\n",
              "      <th>1</th>\n",
              "      <td>0.152070</td>\n",
              "      <td>0.422210</td>\n",
              "      <td>-0.203465</td>\n",
              "      <td>0.262834</td>\n",
              "      <td>-0.634552</td>\n",
              "      <td>-0.134829</td>\n",
              "      <td>-0.554202</td>\n",
              "    </tr>\n",
              "    <tr>\n",
              "      <th>2</th>\n",
              "      <td>-0.445482</td>\n",
              "      <td>0.138910</td>\n",
              "      <td>-0.110341</td>\n",
              "      <td>0.070396</td>\n",
              "      <td>-0.577147</td>\n",
              "      <td>-0.443397</td>\n",
              "      <td>-0.489403</td>\n",
              "    </tr>\n",
              "    <tr>\n",
              "      <th>3</th>\n",
              "      <td>0.511943</td>\n",
              "      <td>0.355700</td>\n",
              "      <td>-0.360430</td>\n",
              "      <td>0.336868</td>\n",
              "      <td>-0.148251</td>\n",
              "      <td>-0.704480</td>\n",
              "      <td>-0.244418</td>\n",
              "    </tr>\n",
              "    <tr>\n",
              "      <th>4</th>\n",
              "      <td>-0.678348</td>\n",
              "      <td>0.172320</td>\n",
              "      <td>0.164158</td>\n",
              "      <td>-0.049188</td>\n",
              "      <td>0.006871</td>\n",
              "      <td>-0.061646</td>\n",
              "      <td>-0.289158</td>\n",
              "    </tr>\n",
              "  </tbody>\n",
              "</table>\n",
              "</div>\n",
              "    <div class=\"colab-df-buttons\">\n",
              "\n",
              "  <div class=\"colab-df-container\">\n",
              "    <button class=\"colab-df-convert\" onclick=\"convertToInteractive('df-8e771b83-e565-4e8b-abb0-fef711929019')\"\n",
              "            title=\"Convert this dataframe to an interactive table.\"\n",
              "            style=\"display:none;\">\n",
              "\n",
              "  <svg xmlns=\"http://www.w3.org/2000/svg\" height=\"24px\" viewBox=\"0 -960 960 960\">\n",
              "    <path d=\"M120-120v-720h720v720H120Zm60-500h600v-160H180v160Zm220 220h160v-160H400v160Zm0 220h160v-160H400v160ZM180-400h160v-160H180v160Zm440 0h160v-160H620v160ZM180-180h160v-160H180v160Zm440 0h160v-160H620v160Z\"/>\n",
              "  </svg>\n",
              "    </button>\n",
              "\n",
              "  <style>\n",
              "    .colab-df-container {\n",
              "      display:flex;\n",
              "      gap: 12px;\n",
              "    }\n",
              "\n",
              "    .colab-df-convert {\n",
              "      background-color: #E8F0FE;\n",
              "      border: none;\n",
              "      border-radius: 50%;\n",
              "      cursor: pointer;\n",
              "      display: none;\n",
              "      fill: #1967D2;\n",
              "      height: 32px;\n",
              "      padding: 0 0 0 0;\n",
              "      width: 32px;\n",
              "    }\n",
              "\n",
              "    .colab-df-convert:hover {\n",
              "      background-color: #E2EBFA;\n",
              "      box-shadow: 0px 1px 2px rgba(60, 64, 67, 0.3), 0px 1px 3px 1px rgba(60, 64, 67, 0.15);\n",
              "      fill: #174EA6;\n",
              "    }\n",
              "\n",
              "    .colab-df-buttons div {\n",
              "      margin-bottom: 4px;\n",
              "    }\n",
              "\n",
              "    [theme=dark] .colab-df-convert {\n",
              "      background-color: #3B4455;\n",
              "      fill: #D2E3FC;\n",
              "    }\n",
              "\n",
              "    [theme=dark] .colab-df-convert:hover {\n",
              "      background-color: #434B5C;\n",
              "      box-shadow: 0px 1px 3px 1px rgba(0, 0, 0, 0.15);\n",
              "      filter: drop-shadow(0px 1px 2px rgba(0, 0, 0, 0.3));\n",
              "      fill: #FFFFFF;\n",
              "    }\n",
              "  </style>\n",
              "\n",
              "    <script>\n",
              "      const buttonEl =\n",
              "        document.querySelector('#df-8e771b83-e565-4e8b-abb0-fef711929019 button.colab-df-convert');\n",
              "      buttonEl.style.display =\n",
              "        google.colab.kernel.accessAllowed ? 'block' : 'none';\n",
              "\n",
              "      async function convertToInteractive(key) {\n",
              "        const element = document.querySelector('#df-8e771b83-e565-4e8b-abb0-fef711929019');\n",
              "        const dataTable =\n",
              "          await google.colab.kernel.invokeFunction('convertToInteractive',\n",
              "                                                    [key], {});\n",
              "        if (!dataTable) return;\n",
              "\n",
              "        const docLinkHtml = 'Like what you see? Visit the ' +\n",
              "          '<a target=\"_blank\" href=https://colab.research.google.com/notebooks/data_table.ipynb>data table notebook</a>'\n",
              "          + ' to learn more about interactive tables.';\n",
              "        element.innerHTML = '';\n",
              "        dataTable['output_type'] = 'display_data';\n",
              "        await google.colab.output.renderOutput(dataTable, element);\n",
              "        const docLink = document.createElement('div');\n",
              "        docLink.innerHTML = docLinkHtml;\n",
              "        element.appendChild(docLink);\n",
              "      }\n",
              "    </script>\n",
              "  </div>\n",
              "\n",
              "\n",
              "<div id=\"df-ace3db70-7fed-4622-b62d-b91f42e0da37\">\n",
              "  <button class=\"colab-df-quickchart\" onclick=\"quickchart('df-ace3db70-7fed-4622-b62d-b91f42e0da37')\"\n",
              "            title=\"Suggest charts\"\n",
              "            style=\"display:none;\">\n",
              "\n",
              "<svg xmlns=\"http://www.w3.org/2000/svg\" height=\"24px\"viewBox=\"0 0 24 24\"\n",
              "     width=\"24px\">\n",
              "    <g>\n",
              "        <path d=\"M19 3H5c-1.1 0-2 .9-2 2v14c0 1.1.9 2 2 2h14c1.1 0 2-.9 2-2V5c0-1.1-.9-2-2-2zM9 17H7v-7h2v7zm4 0h-2V7h2v10zm4 0h-2v-4h2v4z\"/>\n",
              "    </g>\n",
              "</svg>\n",
              "  </button>\n",
              "\n",
              "<style>\n",
              "  .colab-df-quickchart {\n",
              "      --bg-color: #E8F0FE;\n",
              "      --fill-color: #1967D2;\n",
              "      --hover-bg-color: #E2EBFA;\n",
              "      --hover-fill-color: #174EA6;\n",
              "      --disabled-fill-color: #AAA;\n",
              "      --disabled-bg-color: #DDD;\n",
              "  }\n",
              "\n",
              "  [theme=dark] .colab-df-quickchart {\n",
              "      --bg-color: #3B4455;\n",
              "      --fill-color: #D2E3FC;\n",
              "      --hover-bg-color: #434B5C;\n",
              "      --hover-fill-color: #FFFFFF;\n",
              "      --disabled-bg-color: #3B4455;\n",
              "      --disabled-fill-color: #666;\n",
              "  }\n",
              "\n",
              "  .colab-df-quickchart {\n",
              "    background-color: var(--bg-color);\n",
              "    border: none;\n",
              "    border-radius: 50%;\n",
              "    cursor: pointer;\n",
              "    display: none;\n",
              "    fill: var(--fill-color);\n",
              "    height: 32px;\n",
              "    padding: 0;\n",
              "    width: 32px;\n",
              "  }\n",
              "\n",
              "  .colab-df-quickchart:hover {\n",
              "    background-color: var(--hover-bg-color);\n",
              "    box-shadow: 0 1px 2px rgba(60, 64, 67, 0.3), 0 1px 3px 1px rgba(60, 64, 67, 0.15);\n",
              "    fill: var(--button-hover-fill-color);\n",
              "  }\n",
              "\n",
              "  .colab-df-quickchart-complete:disabled,\n",
              "  .colab-df-quickchart-complete:disabled:hover {\n",
              "    background-color: var(--disabled-bg-color);\n",
              "    fill: var(--disabled-fill-color);\n",
              "    box-shadow: none;\n",
              "  }\n",
              "\n",
              "  .colab-df-spinner {\n",
              "    border: 2px solid var(--fill-color);\n",
              "    border-color: transparent;\n",
              "    border-bottom-color: var(--fill-color);\n",
              "    animation:\n",
              "      spin 1s steps(1) infinite;\n",
              "  }\n",
              "\n",
              "  @keyframes spin {\n",
              "    0% {\n",
              "      border-color: transparent;\n",
              "      border-bottom-color: var(--fill-color);\n",
              "      border-left-color: var(--fill-color);\n",
              "    }\n",
              "    20% {\n",
              "      border-color: transparent;\n",
              "      border-left-color: var(--fill-color);\n",
              "      border-top-color: var(--fill-color);\n",
              "    }\n",
              "    30% {\n",
              "      border-color: transparent;\n",
              "      border-left-color: var(--fill-color);\n",
              "      border-top-color: var(--fill-color);\n",
              "      border-right-color: var(--fill-color);\n",
              "    }\n",
              "    40% {\n",
              "      border-color: transparent;\n",
              "      border-right-color: var(--fill-color);\n",
              "      border-top-color: var(--fill-color);\n",
              "    }\n",
              "    60% {\n",
              "      border-color: transparent;\n",
              "      border-right-color: var(--fill-color);\n",
              "    }\n",
              "    80% {\n",
              "      border-color: transparent;\n",
              "      border-right-color: var(--fill-color);\n",
              "      border-bottom-color: var(--fill-color);\n",
              "    }\n",
              "    90% {\n",
              "      border-color: transparent;\n",
              "      border-bottom-color: var(--fill-color);\n",
              "    }\n",
              "  }\n",
              "</style>\n",
              "\n",
              "  <script>\n",
              "    async function quickchart(key) {\n",
              "      const quickchartButtonEl =\n",
              "        document.querySelector('#' + key + ' button');\n",
              "      quickchartButtonEl.disabled = true;  // To prevent multiple clicks.\n",
              "      quickchartButtonEl.classList.add('colab-df-spinner');\n",
              "      try {\n",
              "        const charts = await google.colab.kernel.invokeFunction(\n",
              "            'suggestCharts', [key], {});\n",
              "      } catch (error) {\n",
              "        console.error('Error during call to suggestCharts:', error);\n",
              "      }\n",
              "      quickchartButtonEl.classList.remove('colab-df-spinner');\n",
              "      quickchartButtonEl.classList.add('colab-df-quickchart-complete');\n",
              "    }\n",
              "    (() => {\n",
              "      let quickchartButtonEl =\n",
              "        document.querySelector('#df-ace3db70-7fed-4622-b62d-b91f42e0da37 button');\n",
              "      quickchartButtonEl.style.display =\n",
              "        google.colab.kernel.accessAllowed ? 'block' : 'none';\n",
              "    })();\n",
              "  </script>\n",
              "</div>\n",
              "\n",
              "    </div>\n",
              "  </div>\n"
            ],
            "application/vnd.google.colaboratory.intrinsic+json": {
              "type": "dataframe",
              "variable_name": "f_hat_ddfm_idx7",
              "summary": "{\n  \"name\": \"f_hat_ddfm_idx7\",\n  \"rows\": 577,\n  \"fields\": [\n    {\n      \"column\": \"f1\",\n      \"properties\": {\n        \"dtype\": \"number\",\n        \"std\": 0.3337329758129539,\n        \"min\": -1.0327356496439313,\n        \"max\": 1.1378177937789622,\n        \"num_unique_values\": 577,\n        \"samples\": [\n          0.16863005093331362,\n          -0.4016277009189758,\n          -0.2697538793505593\n        ],\n        \"semantic_type\": \"\",\n        \"description\": \"\"\n      }\n    },\n    {\n      \"column\": \"f2\",\n      \"properties\": {\n        \"dtype\": \"number\",\n        \"std\": 0.30083779777813047,\n        \"min\": -1.0699265326594762,\n        \"max\": 1.0010988521817459,\n        \"num_unique_values\": 577,\n        \"samples\": [\n          0.31830387365647417,\n          -0.17310885843021398,\n          -0.4006517994514464\n        ],\n        \"semantic_type\": \"\",\n        \"description\": \"\"\n      }\n    },\n    {\n      \"column\": \"f3\",\n      \"properties\": {\n        \"dtype\": \"number\",\n        \"std\": 0.2774902032417091,\n        \"min\": -0.8290838224415299,\n        \"max\": 1.2298271247478498,\n        \"num_unique_values\": 577,\n        \"samples\": [\n          -0.13047889059070505,\n          0.07454925484630542,\n          -0.24396039222761426\n        ],\n        \"semantic_type\": \"\",\n        \"description\": \"\"\n      }\n    },\n    {\n      \"column\": \"f4\",\n      \"properties\": {\n        \"dtype\": \"number\",\n        \"std\": 0.3012354034293133,\n        \"min\": -1.2576657754624818,\n        \"max\": 0.793575047308549,\n        \"num_unique_values\": 577,\n        \"samples\": [\n          -0.17960654173867013,\n          0.4474492217635714,\n          -0.3175857776326044\n        ],\n        \"semantic_type\": \"\",\n        \"description\": \"\"\n      }\n    },\n    {\n      \"column\": \"f5\",\n      \"properties\": {\n        \"dtype\": \"number\",\n        \"std\": 0.29216303276806965,\n        \"min\": -1.1943571192019005,\n        \"max\": 0.9205740218582525,\n        \"num_unique_values\": 577,\n        \"samples\": [\n          -0.17663897533933742,\n          0.07616445626829788,\n          0.3213576422177361\n        ],\n        \"semantic_type\": \"\",\n        \"description\": \"\"\n      }\n    },\n    {\n      \"column\": \"f6\",\n      \"properties\": {\n        \"dtype\": \"number\",\n        \"std\": 0.3355252899939503,\n        \"min\": -1.1066132009951977,\n        \"max\": 0.8993314727538216,\n        \"num_unique_values\": 577,\n        \"samples\": [\n          -0.5072859687351472,\n          0.05116393627477918,\n          0.359252924083157\n        ],\n        \"semantic_type\": \"\",\n        \"description\": \"\"\n      }\n    },\n    {\n      \"column\": \"f7\",\n      \"properties\": {\n        \"dtype\": \"number\",\n        \"std\": 0.3033407448747054,\n        \"min\": -0.8634390217821792,\n        \"max\": 1.1458464932581365,\n        \"num_unique_values\": 577,\n        \"samples\": [\n          0.05537798268265183,\n          -0.09348877375344719,\n          0.3192041423434155\n        ],\n        \"semantic_type\": \"\",\n        \"description\": \"\"\n      }\n    }\n  ]\n}"
            }
          },
          "metadata": {},
          "execution_count": 25
        }
      ]
    },
    {
      "cell_type": "code",
      "source": [
        "f_hat_ddfm_idx7.index = df_train_idx.index\n",
        "f_hat_ddfm7=f_hat_ddfm_idx7.reset_index()"
      ],
      "metadata": {
        "id": "Z1bw1Epy6Pje"
      },
      "execution_count": 26,
      "outputs": []
    },
    {
      "cell_type": "code",
      "source": [
        "f_hat_ddfm7.head()"
      ],
      "metadata": {
        "colab": {
          "base_uri": "https://localhost:8080/",
          "height": 206
        },
        "id": "xjh8JVh-jrzU",
        "outputId": "1d4ec94d-08da-4915-f3ea-175005fb4e97"
      },
      "execution_count": 27,
      "outputs": [
        {
          "output_type": "execute_result",
          "data": {
            "text/plain": [
              "        Index        f1        f2        f3        f4        f5        f6  \\\n",
              "0  1960-01-01 -0.436209 -0.313294  0.678699  0.477978  0.371764  0.213296   \n",
              "1  1960-02-01  0.152070  0.422210 -0.203465  0.262834 -0.634552 -0.134829   \n",
              "2  1960-03-01 -0.445482  0.138910 -0.110341  0.070396 -0.577147 -0.443397   \n",
              "3  1960-04-01  0.511943  0.355700 -0.360430  0.336868 -0.148251 -0.704480   \n",
              "4  1960-05-01 -0.678348  0.172320  0.164158 -0.049188  0.006871 -0.061646   \n",
              "\n",
              "         f7  \n",
              "0  0.000000  \n",
              "1 -0.554202  \n",
              "2 -0.489403  \n",
              "3 -0.244418  \n",
              "4 -0.289158  "
            ],
            "text/html": [
              "\n",
              "  <div id=\"df-49b96469-69cd-48db-8da8-d3bad2268bf6\" class=\"colab-df-container\">\n",
              "    <div>\n",
              "<style scoped>\n",
              "    .dataframe tbody tr th:only-of-type {\n",
              "        vertical-align: middle;\n",
              "    }\n",
              "\n",
              "    .dataframe tbody tr th {\n",
              "        vertical-align: top;\n",
              "    }\n",
              "\n",
              "    .dataframe thead th {\n",
              "        text-align: right;\n",
              "    }\n",
              "</style>\n",
              "<table border=\"1\" class=\"dataframe\">\n",
              "  <thead>\n",
              "    <tr style=\"text-align: right;\">\n",
              "      <th></th>\n",
              "      <th>Index</th>\n",
              "      <th>f1</th>\n",
              "      <th>f2</th>\n",
              "      <th>f3</th>\n",
              "      <th>f4</th>\n",
              "      <th>f5</th>\n",
              "      <th>f6</th>\n",
              "      <th>f7</th>\n",
              "    </tr>\n",
              "  </thead>\n",
              "  <tbody>\n",
              "    <tr>\n",
              "      <th>0</th>\n",
              "      <td>1960-01-01</td>\n",
              "      <td>-0.436209</td>\n",
              "      <td>-0.313294</td>\n",
              "      <td>0.678699</td>\n",
              "      <td>0.477978</td>\n",
              "      <td>0.371764</td>\n",
              "      <td>0.213296</td>\n",
              "      <td>0.000000</td>\n",
              "    </tr>\n",
              "    <tr>\n",
              "      <th>1</th>\n",
              "      <td>1960-02-01</td>\n",
              "      <td>0.152070</td>\n",
              "      <td>0.422210</td>\n",
              "      <td>-0.203465</td>\n",
              "      <td>0.262834</td>\n",
              "      <td>-0.634552</td>\n",
              "      <td>-0.134829</td>\n",
              "      <td>-0.554202</td>\n",
              "    </tr>\n",
              "    <tr>\n",
              "      <th>2</th>\n",
              "      <td>1960-03-01</td>\n",
              "      <td>-0.445482</td>\n",
              "      <td>0.138910</td>\n",
              "      <td>-0.110341</td>\n",
              "      <td>0.070396</td>\n",
              "      <td>-0.577147</td>\n",
              "      <td>-0.443397</td>\n",
              "      <td>-0.489403</td>\n",
              "    </tr>\n",
              "    <tr>\n",
              "      <th>3</th>\n",
              "      <td>1960-04-01</td>\n",
              "      <td>0.511943</td>\n",
              "      <td>0.355700</td>\n",
              "      <td>-0.360430</td>\n",
              "      <td>0.336868</td>\n",
              "      <td>-0.148251</td>\n",
              "      <td>-0.704480</td>\n",
              "      <td>-0.244418</td>\n",
              "    </tr>\n",
              "    <tr>\n",
              "      <th>4</th>\n",
              "      <td>1960-05-01</td>\n",
              "      <td>-0.678348</td>\n",
              "      <td>0.172320</td>\n",
              "      <td>0.164158</td>\n",
              "      <td>-0.049188</td>\n",
              "      <td>0.006871</td>\n",
              "      <td>-0.061646</td>\n",
              "      <td>-0.289158</td>\n",
              "    </tr>\n",
              "  </tbody>\n",
              "</table>\n",
              "</div>\n",
              "    <div class=\"colab-df-buttons\">\n",
              "\n",
              "  <div class=\"colab-df-container\">\n",
              "    <button class=\"colab-df-convert\" onclick=\"convertToInteractive('df-49b96469-69cd-48db-8da8-d3bad2268bf6')\"\n",
              "            title=\"Convert this dataframe to an interactive table.\"\n",
              "            style=\"display:none;\">\n",
              "\n",
              "  <svg xmlns=\"http://www.w3.org/2000/svg\" height=\"24px\" viewBox=\"0 -960 960 960\">\n",
              "    <path d=\"M120-120v-720h720v720H120Zm60-500h600v-160H180v160Zm220 220h160v-160H400v160Zm0 220h160v-160H400v160ZM180-400h160v-160H180v160Zm440 0h160v-160H620v160ZM180-180h160v-160H180v160Zm440 0h160v-160H620v160Z\"/>\n",
              "  </svg>\n",
              "    </button>\n",
              "\n",
              "  <style>\n",
              "    .colab-df-container {\n",
              "      display:flex;\n",
              "      gap: 12px;\n",
              "    }\n",
              "\n",
              "    .colab-df-convert {\n",
              "      background-color: #E8F0FE;\n",
              "      border: none;\n",
              "      border-radius: 50%;\n",
              "      cursor: pointer;\n",
              "      display: none;\n",
              "      fill: #1967D2;\n",
              "      height: 32px;\n",
              "      padding: 0 0 0 0;\n",
              "      width: 32px;\n",
              "    }\n",
              "\n",
              "    .colab-df-convert:hover {\n",
              "      background-color: #E2EBFA;\n",
              "      box-shadow: 0px 1px 2px rgba(60, 64, 67, 0.3), 0px 1px 3px 1px rgba(60, 64, 67, 0.15);\n",
              "      fill: #174EA6;\n",
              "    }\n",
              "\n",
              "    .colab-df-buttons div {\n",
              "      margin-bottom: 4px;\n",
              "    }\n",
              "\n",
              "    [theme=dark] .colab-df-convert {\n",
              "      background-color: #3B4455;\n",
              "      fill: #D2E3FC;\n",
              "    }\n",
              "\n",
              "    [theme=dark] .colab-df-convert:hover {\n",
              "      background-color: #434B5C;\n",
              "      box-shadow: 0px 1px 3px 1px rgba(0, 0, 0, 0.15);\n",
              "      filter: drop-shadow(0px 1px 2px rgba(0, 0, 0, 0.3));\n",
              "      fill: #FFFFFF;\n",
              "    }\n",
              "  </style>\n",
              "\n",
              "    <script>\n",
              "      const buttonEl =\n",
              "        document.querySelector('#df-49b96469-69cd-48db-8da8-d3bad2268bf6 button.colab-df-convert');\n",
              "      buttonEl.style.display =\n",
              "        google.colab.kernel.accessAllowed ? 'block' : 'none';\n",
              "\n",
              "      async function convertToInteractive(key) {\n",
              "        const element = document.querySelector('#df-49b96469-69cd-48db-8da8-d3bad2268bf6');\n",
              "        const dataTable =\n",
              "          await google.colab.kernel.invokeFunction('convertToInteractive',\n",
              "                                                    [key], {});\n",
              "        if (!dataTable) return;\n",
              "\n",
              "        const docLinkHtml = 'Like what you see? Visit the ' +\n",
              "          '<a target=\"_blank\" href=https://colab.research.google.com/notebooks/data_table.ipynb>data table notebook</a>'\n",
              "          + ' to learn more about interactive tables.';\n",
              "        element.innerHTML = '';\n",
              "        dataTable['output_type'] = 'display_data';\n",
              "        await google.colab.output.renderOutput(dataTable, element);\n",
              "        const docLink = document.createElement('div');\n",
              "        docLink.innerHTML = docLinkHtml;\n",
              "        element.appendChild(docLink);\n",
              "      }\n",
              "    </script>\n",
              "  </div>\n",
              "\n",
              "\n",
              "<div id=\"df-b1e7c457-c2ca-4412-8bea-c95cb2d3b0b1\">\n",
              "  <button class=\"colab-df-quickchart\" onclick=\"quickchart('df-b1e7c457-c2ca-4412-8bea-c95cb2d3b0b1')\"\n",
              "            title=\"Suggest charts\"\n",
              "            style=\"display:none;\">\n",
              "\n",
              "<svg xmlns=\"http://www.w3.org/2000/svg\" height=\"24px\"viewBox=\"0 0 24 24\"\n",
              "     width=\"24px\">\n",
              "    <g>\n",
              "        <path d=\"M19 3H5c-1.1 0-2 .9-2 2v14c0 1.1.9 2 2 2h14c1.1 0 2-.9 2-2V5c0-1.1-.9-2-2-2zM9 17H7v-7h2v7zm4 0h-2V7h2v10zm4 0h-2v-4h2v4z\"/>\n",
              "    </g>\n",
              "</svg>\n",
              "  </button>\n",
              "\n",
              "<style>\n",
              "  .colab-df-quickchart {\n",
              "      --bg-color: #E8F0FE;\n",
              "      --fill-color: #1967D2;\n",
              "      --hover-bg-color: #E2EBFA;\n",
              "      --hover-fill-color: #174EA6;\n",
              "      --disabled-fill-color: #AAA;\n",
              "      --disabled-bg-color: #DDD;\n",
              "  }\n",
              "\n",
              "  [theme=dark] .colab-df-quickchart {\n",
              "      --bg-color: #3B4455;\n",
              "      --fill-color: #D2E3FC;\n",
              "      --hover-bg-color: #434B5C;\n",
              "      --hover-fill-color: #FFFFFF;\n",
              "      --disabled-bg-color: #3B4455;\n",
              "      --disabled-fill-color: #666;\n",
              "  }\n",
              "\n",
              "  .colab-df-quickchart {\n",
              "    background-color: var(--bg-color);\n",
              "    border: none;\n",
              "    border-radius: 50%;\n",
              "    cursor: pointer;\n",
              "    display: none;\n",
              "    fill: var(--fill-color);\n",
              "    height: 32px;\n",
              "    padding: 0;\n",
              "    width: 32px;\n",
              "  }\n",
              "\n",
              "  .colab-df-quickchart:hover {\n",
              "    background-color: var(--hover-bg-color);\n",
              "    box-shadow: 0 1px 2px rgba(60, 64, 67, 0.3), 0 1px 3px 1px rgba(60, 64, 67, 0.15);\n",
              "    fill: var(--button-hover-fill-color);\n",
              "  }\n",
              "\n",
              "  .colab-df-quickchart-complete:disabled,\n",
              "  .colab-df-quickchart-complete:disabled:hover {\n",
              "    background-color: var(--disabled-bg-color);\n",
              "    fill: var(--disabled-fill-color);\n",
              "    box-shadow: none;\n",
              "  }\n",
              "\n",
              "  .colab-df-spinner {\n",
              "    border: 2px solid var(--fill-color);\n",
              "    border-color: transparent;\n",
              "    border-bottom-color: var(--fill-color);\n",
              "    animation:\n",
              "      spin 1s steps(1) infinite;\n",
              "  }\n",
              "\n",
              "  @keyframes spin {\n",
              "    0% {\n",
              "      border-color: transparent;\n",
              "      border-bottom-color: var(--fill-color);\n",
              "      border-left-color: var(--fill-color);\n",
              "    }\n",
              "    20% {\n",
              "      border-color: transparent;\n",
              "      border-left-color: var(--fill-color);\n",
              "      border-top-color: var(--fill-color);\n",
              "    }\n",
              "    30% {\n",
              "      border-color: transparent;\n",
              "      border-left-color: var(--fill-color);\n",
              "      border-top-color: var(--fill-color);\n",
              "      border-right-color: var(--fill-color);\n",
              "    }\n",
              "    40% {\n",
              "      border-color: transparent;\n",
              "      border-right-color: var(--fill-color);\n",
              "      border-top-color: var(--fill-color);\n",
              "    }\n",
              "    60% {\n",
              "      border-color: transparent;\n",
              "      border-right-color: var(--fill-color);\n",
              "    }\n",
              "    80% {\n",
              "      border-color: transparent;\n",
              "      border-right-color: var(--fill-color);\n",
              "      border-bottom-color: var(--fill-color);\n",
              "    }\n",
              "    90% {\n",
              "      border-color: transparent;\n",
              "      border-bottom-color: var(--fill-color);\n",
              "    }\n",
              "  }\n",
              "</style>\n",
              "\n",
              "  <script>\n",
              "    async function quickchart(key) {\n",
              "      const quickchartButtonEl =\n",
              "        document.querySelector('#' + key + ' button');\n",
              "      quickchartButtonEl.disabled = true;  // To prevent multiple clicks.\n",
              "      quickchartButtonEl.classList.add('colab-df-spinner');\n",
              "      try {\n",
              "        const charts = await google.colab.kernel.invokeFunction(\n",
              "            'suggestCharts', [key], {});\n",
              "      } catch (error) {\n",
              "        console.error('Error during call to suggestCharts:', error);\n",
              "      }\n",
              "      quickchartButtonEl.classList.remove('colab-df-spinner');\n",
              "      quickchartButtonEl.classList.add('colab-df-quickchart-complete');\n",
              "    }\n",
              "    (() => {\n",
              "      let quickchartButtonEl =\n",
              "        document.querySelector('#df-b1e7c457-c2ca-4412-8bea-c95cb2d3b0b1 button');\n",
              "      quickchartButtonEl.style.display =\n",
              "        google.colab.kernel.accessAllowed ? 'block' : 'none';\n",
              "    })();\n",
              "  </script>\n",
              "</div>\n",
              "\n",
              "    </div>\n",
              "  </div>\n"
            ],
            "application/vnd.google.colaboratory.intrinsic+json": {
              "type": "dataframe",
              "variable_name": "f_hat_ddfm7",
              "summary": "{\n  \"name\": \"f_hat_ddfm7\",\n  \"rows\": 577,\n  \"fields\": [\n    {\n      \"column\": \"Index\",\n      \"properties\": {\n        \"dtype\": \"object\",\n        \"num_unique_values\": 577,\n        \"samples\": [\n          \"1969-11-01\",\n          \"1992-10-01\",\n          \"2002-11-01\"\n        ],\n        \"semantic_type\": \"\",\n        \"description\": \"\"\n      }\n    },\n    {\n      \"column\": \"f1\",\n      \"properties\": {\n        \"dtype\": \"number\",\n        \"std\": 0.3337329758129539,\n        \"min\": -1.0327356496439313,\n        \"max\": 1.1378177937789622,\n        \"num_unique_values\": 577,\n        \"samples\": [\n          0.16863005093331362,\n          -0.4016277009189758,\n          -0.2697538793505593\n        ],\n        \"semantic_type\": \"\",\n        \"description\": \"\"\n      }\n    },\n    {\n      \"column\": \"f2\",\n      \"properties\": {\n        \"dtype\": \"number\",\n        \"std\": 0.30083779777813047,\n        \"min\": -1.0699265326594762,\n        \"max\": 1.0010988521817459,\n        \"num_unique_values\": 577,\n        \"samples\": [\n          0.31830387365647417,\n          -0.17310885843021398,\n          -0.4006517994514464\n        ],\n        \"semantic_type\": \"\",\n        \"description\": \"\"\n      }\n    },\n    {\n      \"column\": \"f3\",\n      \"properties\": {\n        \"dtype\": \"number\",\n        \"std\": 0.2774902032417091,\n        \"min\": -0.8290838224415299,\n        \"max\": 1.2298271247478498,\n        \"num_unique_values\": 577,\n        \"samples\": [\n          -0.13047889059070505,\n          0.07454925484630542,\n          -0.24396039222761426\n        ],\n        \"semantic_type\": \"\",\n        \"description\": \"\"\n      }\n    },\n    {\n      \"column\": \"f4\",\n      \"properties\": {\n        \"dtype\": \"number\",\n        \"std\": 0.3012354034293133,\n        \"min\": -1.2576657754624818,\n        \"max\": 0.793575047308549,\n        \"num_unique_values\": 577,\n        \"samples\": [\n          -0.17960654173867013,\n          0.4474492217635714,\n          -0.3175857776326044\n        ],\n        \"semantic_type\": \"\",\n        \"description\": \"\"\n      }\n    },\n    {\n      \"column\": \"f5\",\n      \"properties\": {\n        \"dtype\": \"number\",\n        \"std\": 0.29216303276806965,\n        \"min\": -1.1943571192019005,\n        \"max\": 0.9205740218582525,\n        \"num_unique_values\": 577,\n        \"samples\": [\n          -0.17663897533933742,\n          0.07616445626829788,\n          0.3213576422177361\n        ],\n        \"semantic_type\": \"\",\n        \"description\": \"\"\n      }\n    },\n    {\n      \"column\": \"f6\",\n      \"properties\": {\n        \"dtype\": \"number\",\n        \"std\": 0.3355252899939503,\n        \"min\": -1.1066132009951977,\n        \"max\": 0.8993314727538216,\n        \"num_unique_values\": 577,\n        \"samples\": [\n          -0.5072859687351472,\n          0.05116393627477918,\n          0.359252924083157\n        ],\n        \"semantic_type\": \"\",\n        \"description\": \"\"\n      }\n    },\n    {\n      \"column\": \"f7\",\n      \"properties\": {\n        \"dtype\": \"number\",\n        \"std\": 0.3033407448747054,\n        \"min\": -0.8634390217821792,\n        \"max\": 1.1458464932581365,\n        \"num_unique_values\": 577,\n        \"samples\": [\n          0.05537798268265183,\n          -0.09348877375344719,\n          0.3192041423434155\n        ],\n        \"semantic_type\": \"\",\n        \"description\": \"\"\n      }\n    }\n  ]\n}"
            }
          },
          "metadata": {},
          "execution_count": 27
        }
      ]
    },
    {
      "cell_type": "code",
      "source": [
        "f_hat_ddfm7.to_csv('/content/drive/MyDrive/D2FM/f_hat_DDFM_fact7.csv', index=False)"
      ],
      "metadata": {
        "id": "5NLMaDQR4Wqj"
      },
      "execution_count": 28,
      "outputs": []
    }
  ],
  "metadata": {
    "colab": {
      "provenance": []
    },
    "kernelspec": {
      "display_name": "Python 3",
      "name": "python3"
    },
    "language_info": {
      "name": "python"
    }
  },
  "nbformat": 4,
  "nbformat_minor": 0
}